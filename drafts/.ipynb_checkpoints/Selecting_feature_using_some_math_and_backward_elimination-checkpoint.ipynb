{
 "cells": [
  {
   "cell_type": "markdown",
   "metadata": {},
   "source": [
    "# Selecting feature for model using some math and backward elimination"
   ]
  },
  {
   "cell_type": "code",
   "execution_count": 1,
   "metadata": {},
   "outputs": [],
   "source": [
    "import seaborn as sns\n",
    "import pandas as pd\n",
    "import numpy as np\n",
    "import matplotlib.pyplot as plt\n",
    "import matplotlib as mpl\n",
    "import math \n",
    "\n",
    "%matplotlib inline"
   ]
  },
  {
   "cell_type": "code",
   "execution_count": 2,
   "metadata": {},
   "outputs": [],
   "source": [
    "df = pd.read_csv('../df.csv')"
   ]
  },
  {
   "cell_type": "code",
   "execution_count": 3,
   "metadata": {},
   "outputs": [
    {
     "data": {
      "text/html": [
       "<div>\n",
       "<style scoped>\n",
       "    .dataframe tbody tr th:only-of-type {\n",
       "        vertical-align: middle;\n",
       "    }\n",
       "\n",
       "    .dataframe tbody tr th {\n",
       "        vertical-align: top;\n",
       "    }\n",
       "\n",
       "    .dataframe thead th {\n",
       "        text-align: right;\n",
       "    }\n",
       "</style>\n",
       "<table border=\"1\" class=\"dataframe\">\n",
       "  <thead>\n",
       "    <tr style=\"text-align: right;\">\n",
       "      <th></th>\n",
       "      <th>season</th>\n",
       "      <th>title</th>\n",
       "      <th>rating</th>\n",
       "      <th>votes</th>\n",
       "      <th>double</th>\n",
       "      <th>episode</th>\n",
       "      <th>votes_norm</th>\n",
       "      <th>month</th>\n",
       "      <th>writer_B.J._Novak</th>\n",
       "      <th>writer_Mindy_Kaling</th>\n",
       "      <th>...</th>\n",
       "      <th>whispering</th>\n",
       "      <th>screaming</th>\n",
       "      <th>singing</th>\n",
       "      <th>applause</th>\n",
       "      <th>accent</th>\n",
       "      <th>crying</th>\n",
       "      <th>smiling</th>\n",
       "      <th>sigh</th>\n",
       "      <th>kiss</th>\n",
       "      <th>one</th>\n",
       "    </tr>\n",
       "  </thead>\n",
       "  <tbody>\n",
       "    <tr>\n",
       "      <th>0</th>\n",
       "      <td>1</td>\n",
       "      <td>Pilot</td>\n",
       "      <td>7.4</td>\n",
       "      <td>7006</td>\n",
       "      <td>0</td>\n",
       "      <td>1</td>\n",
       "      <td>0.009148</td>\n",
       "      <td>3</td>\n",
       "      <td>0</td>\n",
       "      <td>0</td>\n",
       "      <td>...</td>\n",
       "      <td>0</td>\n",
       "      <td>1</td>\n",
       "      <td>1</td>\n",
       "      <td>0</td>\n",
       "      <td>0</td>\n",
       "      <td>1</td>\n",
       "      <td>0</td>\n",
       "      <td>1</td>\n",
       "      <td>0</td>\n",
       "      <td>1</td>\n",
       "    </tr>\n",
       "    <tr>\n",
       "      <th>1</th>\n",
       "      <td>1</td>\n",
       "      <td>Diversity Day</td>\n",
       "      <td>8.3</td>\n",
       "      <td>6902</td>\n",
       "      <td>0</td>\n",
       "      <td>2</td>\n",
       "      <td>0.009012</td>\n",
       "      <td>3</td>\n",
       "      <td>1</td>\n",
       "      <td>0</td>\n",
       "      <td>...</td>\n",
       "      <td>0</td>\n",
       "      <td>0</td>\n",
       "      <td>0</td>\n",
       "      <td>0</td>\n",
       "      <td>3</td>\n",
       "      <td>1</td>\n",
       "      <td>0</td>\n",
       "      <td>0</td>\n",
       "      <td>0</td>\n",
       "      <td>1</td>\n",
       "    </tr>\n",
       "    <tr>\n",
       "      <th>2</th>\n",
       "      <td>1</td>\n",
       "      <td>Health Care</td>\n",
       "      <td>7.7</td>\n",
       "      <td>5756</td>\n",
       "      <td>0</td>\n",
       "      <td>3</td>\n",
       "      <td>0.007516</td>\n",
       "      <td>4</td>\n",
       "      <td>0</td>\n",
       "      <td>0</td>\n",
       "      <td>...</td>\n",
       "      <td>0</td>\n",
       "      <td>0</td>\n",
       "      <td>0</td>\n",
       "      <td>1</td>\n",
       "      <td>0</td>\n",
       "      <td>0</td>\n",
       "      <td>0</td>\n",
       "      <td>0</td>\n",
       "      <td>0</td>\n",
       "      <td>1</td>\n",
       "    </tr>\n",
       "    <tr>\n",
       "      <th>3</th>\n",
       "      <td>1</td>\n",
       "      <td>The Alliance</td>\n",
       "      <td>8.0</td>\n",
       "      <td>5579</td>\n",
       "      <td>0</td>\n",
       "      <td>4</td>\n",
       "      <td>0.007285</td>\n",
       "      <td>4</td>\n",
       "      <td>0</td>\n",
       "      <td>0</td>\n",
       "      <td>...</td>\n",
       "      <td>2</td>\n",
       "      <td>1</td>\n",
       "      <td>1</td>\n",
       "      <td>0</td>\n",
       "      <td>0</td>\n",
       "      <td>0</td>\n",
       "      <td>0</td>\n",
       "      <td>0</td>\n",
       "      <td>1</td>\n",
       "      <td>1</td>\n",
       "    </tr>\n",
       "    <tr>\n",
       "      <th>4</th>\n",
       "      <td>1</td>\n",
       "      <td>Basketball</td>\n",
       "      <td>8.4</td>\n",
       "      <td>6183</td>\n",
       "      <td>0</td>\n",
       "      <td>5</td>\n",
       "      <td>0.008073</td>\n",
       "      <td>4</td>\n",
       "      <td>0</td>\n",
       "      <td>0</td>\n",
       "      <td>...</td>\n",
       "      <td>0</td>\n",
       "      <td>0</td>\n",
       "      <td>3</td>\n",
       "      <td>2</td>\n",
       "      <td>0</td>\n",
       "      <td>0</td>\n",
       "      <td>0</td>\n",
       "      <td>0</td>\n",
       "      <td>0</td>\n",
       "      <td>1</td>\n",
       "    </tr>\n",
       "  </tbody>\n",
       "</table>\n",
       "<p>5 rows × 343 columns</p>\n",
       "</div>"
      ],
      "text/plain": [
       "   season          title  rating  votes  double  episode  votes_norm  month  \\\n",
       "0       1          Pilot     7.4   7006       0        1    0.009148      3   \n",
       "1       1  Diversity Day     8.3   6902       0        2    0.009012      3   \n",
       "2       1    Health Care     7.7   5756       0        3    0.007516      4   \n",
       "3       1   The Alliance     8.0   5579       0        4    0.007285      4   \n",
       "4       1     Basketball     8.4   6183       0        5    0.008073      4   \n",
       "\n",
       "   writer_B.J._Novak  writer_Mindy_Kaling  ...  whispering  screaming  \\\n",
       "0                  0                    0  ...           0          1   \n",
       "1                  1                    0  ...           0          0   \n",
       "2                  0                    0  ...           0          0   \n",
       "3                  0                    0  ...           2          1   \n",
       "4                  0                    0  ...           0          0   \n",
       "\n",
       "   singing  applause  accent  crying  smiling  sigh  kiss  one  \n",
       "0        1         0       0       1        0     1     0    1  \n",
       "1        0         0       3       1        0     0     0    1  \n",
       "2        0         1       0       0        0     0     0    1  \n",
       "3        1         0       0       0        0     0     1    1  \n",
       "4        3         2       0       0        0     0     0    1  \n",
       "\n",
       "[5 rows x 343 columns]"
      ]
     },
     "execution_count": 3,
     "metadata": {},
     "output_type": "execute_result"
    }
   ],
   "source": [
    "df.head()"
   ]
  },
  {
   "cell_type": "code",
   "execution_count": 4,
   "metadata": {},
   "outputs": [],
   "source": [
    "def RMSE(y, y_pred):\n",
    "    SME = sum((y - y_pred)**2)\n",
    "    \n",
    "    return round(math.sqrt(SME/len(y)),3)"
   ]
  },
  {
   "cell_type": "code",
   "execution_count": 5,
   "metadata": {},
   "outputs": [],
   "source": [
    "import statsmodels.formula.api as smf\n",
    "\n",
    "def linear_regression(train, test, model_features,weights=None):\n",
    "    formula = 'rating ~ '\n",
    "\n",
    "    for value in model_features:\n",
    "        if value != 'rating':\n",
    "            formula += value + \" + \"\n",
    "\n",
    "    formula = formula[:-2]\n",
    "\n",
    "    print(formula)\n",
    "    print()\n",
    "    \n",
    "    if weights is not None:\n",
    "        model = smf.ols(formula, data=train, weights=weights)\n",
    "    else:\n",
    "        model = smf.ols(formula, data=train)\n",
    "        \n",
    "    results = model.fit()\n",
    "    \n",
    "    print(results.summary())\n",
    "\n",
    "\n",
    "    prediction = results.predict(test[model_features])\n",
    "\n",
    "    fig,ax = plt.subplots(figsize=(18,4), nrows=1, ncols=3)\n",
    "    \n",
    "    sns.scatterplot(x=test.rating.values, y=prediction.values, ax=ax[0]).set(title=f'RMSE={RMSE(test.rating.values, prediction.values)}')\n",
    "    sns.lineplot(x=[7,8,9], y=[7,8,9], ax=ax[0])\n",
    "    \n",
    "    sns.kdeplot(prediction-test.rating,ax=ax[1]).set(title='KDE of residuals')\n",
    "    sns.scatterplot(x=test.index, y=prediction-test.rating,ax=ax[2]).set(title='residuals across episodes')\n",
    "    \n",
    "    return results"
   ]
  },
  {
   "cell_type": "markdown",
   "metadata": {},
   "source": [
    "## data splitting"
   ]
  },
  {
   "cell_type": "code",
   "execution_count": 7,
   "metadata": {},
   "outputs": [],
   "source": [
    "characters_words_total = [word for word in df.columns if '_words_total' in word]"
   ]
  },
  {
   "cell_type": "code",
   "execution_count": 8,
   "metadata": {},
   "outputs": [],
   "source": [
    "from sklearn.model_selection import train_test_split\n",
    "\n",
    "to_drop = ['title','season','episode','votes','votes_norm','month'] + characters_words_total\n",
    "df_model = df.drop(columns=to_drop, axis=1)\n",
    "\n",
    "train, test = train_test_split(df_model, test_size=0.30, shuffle=True, random_state=1)"
   ]
  },
  {
   "cell_type": "code",
   "execution_count": 9,
   "metadata": {},
   "outputs": [
    {
     "data": {
      "text/plain": [
       "[Text(0.5, 1.0, 'Test dataset')]"
      ]
     },
     "execution_count": 9,
     "metadata": {},
     "output_type": "execute_result"
    },
    {
     "data": {
      "image/png": "[encoded data removed]",
      "text/plain": [
       "<Figure size 864x360 with 2 Axes>"
      ]
     },
     "metadata": {
      "needs_background": "light"
     },
     "output_type": "display_data"
    }
   ],
   "source": [
    "fig, ax = plt.subplots(figsize=(12,5),nrows=1, ncols=2)\n",
    "sns.histplot(df.rating,bins=20, ax=ax[0],color='black')\n",
    "sns.histplot(train.rating,bins=20, ax=ax[0]).set(title='Train dataset')\n",
    "sns.histplot(df.rating,bins=20, ax=ax[1],color='black')\n",
    "sns.histplot(test.rating,bins=20, ax=ax[1]).set(title='Test dataset') \n"
   ]
  },
  {
   "cell_type": "code",
   "execution_count": 10,
   "metadata": {},
   "outputs": [],
   "source": [
    "x_train = train.drop(columns='rating', axis=1)\n",
    "y_train = train.rating\n",
    "\n",
    "x_test = test.drop(columns='rating', axis=1)\n",
    "y_test = test.rating"
   ]
  },
  {
   "cell_type": "markdown",
   "metadata": {},
   "source": [
    "select all features"
   ]
  },
  {
   "cell_type": "code",
   "execution_count": 11,
   "metadata": {},
   "outputs": [
    {
     "data": {
      "text/plain": [
       "306"
      ]
     },
     "execution_count": 11,
     "metadata": {},
     "output_type": "execute_result"
    }
   ],
   "source": [
    "all_features = x_train.columns.values\n",
    "len(all_features)"
   ]
  },
  {
   "cell_type": "markdown",
   "metadata": {},
   "source": [
    "###  keep features, which appears more than in half episodes"
   ]
  },
  {
   "cell_type": "markdown",
   "metadata": {},
   "source": [
    "number of episodes with low rating"
   ]
  },
  {
   "cell_type": "code",
   "execution_count": 12,
   "metadata": {},
   "outputs": [
    {
     "data": {
      "text/plain": [
       "70"
      ]
     },
     "execution_count": 12,
     "metadata": {},
     "output_type": "execute_result"
    }
   ],
   "source": [
    "len(train[train.rating < train.rating.mean()])"
   ]
  },
  {
   "cell_type": "code",
   "execution_count": 13,
   "metadata": {},
   "outputs": [],
   "source": [
    "delete = []\n",
    "for col in all_features:\n",
    "    appearance = len(train[train[col] != 0])\n",
    "    \n",
    "    if appearance < 60:\n",
    "        delete.append(col)"
   ]
  },
  {
   "cell_type": "code",
   "execution_count": 14,
   "metadata": {},
   "outputs": [
    {
     "data": {
      "text/plain": [
       "268"
      ]
     },
     "execution_count": 14,
     "metadata": {},
     "output_type": "execute_result"
    }
   ],
   "source": [
    "len(delete)"
   ]
  },
  {
   "cell_type": "code",
   "execution_count": 15,
   "metadata": {},
   "outputs": [
    {
     "data": {
      "text/plain": [
       "38"
      ]
     },
     "execution_count": 15,
     "metadata": {},
     "output_type": "execute_result"
    }
   ],
   "source": [
    "model_features_1 = [word for word in all_features if word not in delete]\n",
    "len(model_features_1)"
   ]
  },
  {
   "cell_type": "markdown",
   "metadata": {},
   "source": [
    "### delete features with low variance"
   ]
  },
  {
   "cell_type": "code",
   "execution_count": 16,
   "metadata": {},
   "outputs": [],
   "source": [
    "from sklearn.feature_selection import VarianceThreshold"
   ]
  },
  {
   "cell_type": "code",
   "execution_count": 17,
   "metadata": {},
   "outputs": [
    {
     "data": {
      "text/plain": [
       "one                   0.000000\n",
       "words                 0.069520\n",
       "dialog_mean_length    0.070831\n",
       "number_of_dialog      0.129672\n",
       "Jim_words             0.213933\n",
       "Dwight_words          0.285825\n",
       "Pam_words             0.308637\n",
       "Michael_words         0.480687\n",
       "office                0.667824\n",
       "love                  0.691307\n",
       "dtype: float64"
      ]
     },
     "execution_count": 17,
     "metadata": {},
     "output_type": "execute_result"
    }
   ],
   "source": [
    "normalized_df = x_train[model_features_1] / x_train[model_features_1].mean()\n",
    "\n",
    "normalized_df.var().sort_values(ascending=True)[:10]"
   ]
  },
  {
   "cell_type": "code",
   "execution_count": 18,
   "metadata": {},
   "outputs": [],
   "source": [
    "vt = VarianceThreshold(threshold=.1)\n",
    "\n",
    "_ = vt.fit(normalized_df)\n",
    "mask = vt.get_support()"
   ]
  },
  {
   "cell_type": "code",
   "execution_count": 19,
   "metadata": {},
   "outputs": [],
   "source": [
    "df_for_model = x_train[model_features_1].copy(deep=True)\n",
    "df_for_model = df_for_model.loc[:,mask]"
   ]
  },
  {
   "cell_type": "code",
   "execution_count": 20,
   "metadata": {},
   "outputs": [],
   "source": [
    "model_features_2 = df_for_model.columns.values"
   ]
  },
  {
   "cell_type": "code",
   "execution_count": 22,
   "metadata": {},
   "outputs": [
    {
     "data": {
      "text/plain": [
       "35"
      ]
     },
     "execution_count": 22,
     "metadata": {},
     "output_type": "execute_result"
    }
   ],
   "source": [
    "len(model_features_2)"
   ]
  },
  {
   "cell_type": "markdown",
   "metadata": {},
   "source": [
    "what was deleted"
   ]
  },
  {
   "cell_type": "code",
   "execution_count": 21,
   "metadata": {},
   "outputs": [
    {
     "data": {
      "text/plain": [
       "['words', 'dialog_mean_length', 'one']"
      ]
     },
     "execution_count": 21,
     "metadata": {},
     "output_type": "execute_result"
    }
   ],
   "source": [
    "[word for word in model_features_1 if word not in model_features_2 ]"
   ]
  },
  {
   "cell_type": "markdown",
   "metadata": {},
   "source": [
    "### backward elimination"
   ]
  },
  {
   "cell_type": "code",
   "execution_count": 25,
   "metadata": {},
   "outputs": [],
   "source": [
    "def backward_elimination(train, features, treshold=0.05):\n",
    "    max_p = 1\n",
    "    \n",
    "    while max_p > treshold:\n",
    "#         print()\n",
    "#         print(len(features), max_p)\n",
    "        \n",
    "        formula = 'rating ~ '\n",
    "        for value in features:\n",
    "            formula += value + \" + \"\n",
    "        \n",
    "        formula = formula[:-2]\n",
    "\n",
    "        \n",
    "        model = smf.ols(formula, data=train)\n",
    "        results = model.fit()\n",
    "        \n",
    "        max_p = max(results.pvalues)\n",
    "        \n",
    "        if max_p > treshold:\n",
    "            \n",
    "            delete = []\n",
    "            for col in features:\n",
    "                if abs(results.pvalues[col] - max_p) <= 0.0000001:\n",
    "                    delete.append(col)\n",
    "                    \n",
    "            features = [word for word in features if word not in delete]\n",
    "\n",
    "        if len(features) == 0:\n",
    "            break\n",
    "\n",
    "    return features\n",
    "    "
   ]
  },
  {
   "cell_type": "code",
   "execution_count": 26,
   "metadata": {},
   "outputs": [
    {
     "data": {
      "text/plain": [
       "['Dwight_words',\n",
       " 'Andy_words',\n",
       " 'Erin_words',\n",
       " 'Meredith_words',\n",
       " 'Jim_about_Dwight',\n",
       " 'number_of_dialog']"
      ]
     },
     "execution_count": 26,
     "metadata": {},
     "output_type": "execute_result"
    }
   ],
   "source": [
    "new_features = backward_elimination(train, model_features_2, treshold=0.1)\n",
    "new_features"
   ]
  },
  {
   "cell_type": "code",
   "execution_count": 27,
   "metadata": {},
   "outputs": [
    {
     "name": "stdout",
     "output_type": "stream",
     "text": [
      "rating ~ Dwight_words + Andy_words + Erin_words + Meredith_words + Jim_about_Dwight + number_of_dialog \n",
      "\n",
      "                            OLS Regression Results                            \n",
      "==============================================================================\n",
      "Dep. Variable:                 rating   R-squared:                       0.343\n",
      "Model:                            OLS   Adj. R-squared:                  0.311\n",
      "Method:                 Least Squares   F-statistic:                     10.72\n",
      "Date:                Fri, 04 Feb 2022   Prob (F-statistic):           1.46e-09\n",
      "Time:                        12:33:38   Log-Likelihood:                -96.059\n",
      "No. Observations:                 130   AIC:                             206.1\n",
      "Df Residuals:                     123   BIC:                             226.2\n",
      "Df Model:                           6                                         \n",
      "Covariance Type:            nonrobust                                         \n",
      "====================================================================================\n",
      "                       coef    std err          t      P>|t|      [0.025      0.975]\n",
      "------------------------------------------------------------------------------------\n",
      "Intercept            7.9854      0.160     50.026      0.000       7.669       8.301\n",
      "Dwight_words        -0.0132      0.007     -2.025      0.045      -0.026      -0.000\n",
      "Andy_words          -0.0250      0.007     -3.814      0.000      -0.038      -0.012\n",
      "Erin_words          -0.0615      0.015     -4.063      0.000      -0.091      -0.032\n",
      "Meredith_words       0.0842      0.042      1.983      0.050       0.000       0.168\n",
      "Jim_about_Dwight     0.1625      0.079      2.064      0.041       0.007       0.318\n",
      "number_of_dialog     0.0093      0.002      4.570      0.000       0.005       0.013\n",
      "==============================================================================\n",
      "Omnibus:                        3.675   Durbin-Watson:                   2.003\n",
      "Prob(Omnibus):                  0.159   Jarque-Bera (JB):                3.380\n",
      "Skew:                           0.394   Prob(JB):                        0.184\n",
      "Kurtosis:                       3.057   Cond. No.                         245.\n",
      "==============================================================================\n",
      "\n",
      "Notes:\n",
      "[1] Standard Errors assume that the covariance matrix of the errors is correctly specified.\n"
     ]
    },
    {
     "data": {
      "image/png": "[encoded data removed]",
      "text/plain": [
       "<Figure size 1296x288 with 3 Axes>"
      ]
     },
     "metadata": {
      "needs_background": "light"
     },
     "output_type": "display_data"
    }
   ],
   "source": [
    "res = linear_regression(train, test, new_features)"
   ]
  },
  {
   "cell_type": "code",
   "execution_count": 28,
   "metadata": {},
   "outputs": [
    {
     "data": {
      "text/plain": [
       "Intercept           7.985390\n",
       "Jim_about_Dwight    0.162460\n",
       "Meredith_words      0.084192\n",
       "number_of_dialog    0.009269\n",
       "Dwight_words       -0.013184\n",
       "Andy_words         -0.024990\n",
       "Erin_words         -0.061501\n",
       "dtype: float64"
      ]
     },
     "execution_count": 28,
     "metadata": {},
     "output_type": "execute_result"
    }
   ],
   "source": [
    "res.params.sort_values(ascending=False)"
   ]
  },
  {
   "cell_type": "code",
   "execution_count": null,
   "metadata": {},
   "outputs": [],
   "source": []
  }
 ],
 "metadata": {
  "kernelspec": {
   "display_name": "Python 3",
   "language": "python",
   "name": "python3"
  },
  "language_info": {
   "codemirror_mode": {
    "name": "ipython",
    "version": 3
   },
   "file_extension": ".py",
   "mimetype": "text/x-python",
   "name": "python",
   "nbconvert_exporter": "python",
   "pygments_lexer": "ipython3",
   "version": "3.8.5"
  },
  "toc": {
   "base_numbering": 1,
   "nav_menu": {},
   "number_sections": true,
   "sideBar": true,
   "skip_h1_title": false,
   "title_cell": "Table of Contents",
   "title_sidebar": "Contents",
   "toc_cell": false,
   "toc_position": {},
   "toc_section_display": true,
   "toc_window_display": false
  }
 },
 "nbformat": 4,
 "nbformat_minor": 4
}
