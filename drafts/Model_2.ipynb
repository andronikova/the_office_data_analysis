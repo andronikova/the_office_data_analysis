{
 "cells": [
  {
   "cell_type": "code",
   "execution_count": 1,
   "metadata": {},
   "outputs": [],
   "source": [
    "import seaborn as sns\n",
    "import pandas as pd\n",
    "import numpy as np\n",
    "import matplotlib.pyplot as plt\n",
    "import matplotlib as mpl\n",
    "import math \n",
    "\n",
    "%matplotlib inline"
   ]
  },
  {
   "cell_type": "code",
   "execution_count": 2,
   "metadata": {},
   "outputs": [],
   "source": [
    "df = pd.read_csv('../df.csv')"
   ]
  },
  {
   "cell_type": "code",
   "execution_count": 3,
   "metadata": {},
   "outputs": [
    {
     "data": {
      "text/html": [
       "<div>\n",
       "<style scoped>\n",
       "    .dataframe tbody tr th:only-of-type {\n",
       "        vertical-align: middle;\n",
       "    }\n",
       "\n",
       "    .dataframe tbody tr th {\n",
       "        vertical-align: top;\n",
       "    }\n",
       "\n",
       "    .dataframe thead th {\n",
       "        text-align: right;\n",
       "    }\n",
       "</style>\n",
       "<table border=\"1\" class=\"dataframe\">\n",
       "  <thead>\n",
       "    <tr style=\"text-align: right;\">\n",
       "      <th></th>\n",
       "      <th>season</th>\n",
       "      <th>title</th>\n",
       "      <th>rating</th>\n",
       "      <th>votes</th>\n",
       "      <th>double</th>\n",
       "      <th>episode</th>\n",
       "      <th>votes_norm</th>\n",
       "      <th>month</th>\n",
       "      <th>writer_B.J._Novak</th>\n",
       "      <th>writer_Mindy_Kaling</th>\n",
       "      <th>...</th>\n",
       "      <th>whispering</th>\n",
       "      <th>screaming</th>\n",
       "      <th>singing</th>\n",
       "      <th>applause</th>\n",
       "      <th>accent</th>\n",
       "      <th>crying</th>\n",
       "      <th>smiling</th>\n",
       "      <th>sigh</th>\n",
       "      <th>kiss</th>\n",
       "      <th>one</th>\n",
       "    </tr>\n",
       "  </thead>\n",
       "  <tbody>\n",
       "    <tr>\n",
       "      <th>0</th>\n",
       "      <td>1</td>\n",
       "      <td>Pilot</td>\n",
       "      <td>7.4</td>\n",
       "      <td>7006</td>\n",
       "      <td>0</td>\n",
       "      <td>1</td>\n",
       "      <td>0.009148</td>\n",
       "      <td>3</td>\n",
       "      <td>0</td>\n",
       "      <td>0</td>\n",
       "      <td>...</td>\n",
       "      <td>0</td>\n",
       "      <td>1</td>\n",
       "      <td>1</td>\n",
       "      <td>0</td>\n",
       "      <td>0</td>\n",
       "      <td>1</td>\n",
       "      <td>0</td>\n",
       "      <td>1</td>\n",
       "      <td>0</td>\n",
       "      <td>1</td>\n",
       "    </tr>\n",
       "    <tr>\n",
       "      <th>1</th>\n",
       "      <td>1</td>\n",
       "      <td>Diversity Day</td>\n",
       "      <td>8.3</td>\n",
       "      <td>6902</td>\n",
       "      <td>0</td>\n",
       "      <td>2</td>\n",
       "      <td>0.009012</td>\n",
       "      <td>3</td>\n",
       "      <td>1</td>\n",
       "      <td>0</td>\n",
       "      <td>...</td>\n",
       "      <td>0</td>\n",
       "      <td>0</td>\n",
       "      <td>0</td>\n",
       "      <td>0</td>\n",
       "      <td>3</td>\n",
       "      <td>1</td>\n",
       "      <td>0</td>\n",
       "      <td>0</td>\n",
       "      <td>0</td>\n",
       "      <td>1</td>\n",
       "    </tr>\n",
       "    <tr>\n",
       "      <th>2</th>\n",
       "      <td>1</td>\n",
       "      <td>Health Care</td>\n",
       "      <td>7.7</td>\n",
       "      <td>5756</td>\n",
       "      <td>0</td>\n",
       "      <td>3</td>\n",
       "      <td>0.007516</td>\n",
       "      <td>4</td>\n",
       "      <td>0</td>\n",
       "      <td>0</td>\n",
       "      <td>...</td>\n",
       "      <td>0</td>\n",
       "      <td>0</td>\n",
       "      <td>0</td>\n",
       "      <td>1</td>\n",
       "      <td>0</td>\n",
       "      <td>0</td>\n",
       "      <td>0</td>\n",
       "      <td>0</td>\n",
       "      <td>0</td>\n",
       "      <td>1</td>\n",
       "    </tr>\n",
       "    <tr>\n",
       "      <th>3</th>\n",
       "      <td>1</td>\n",
       "      <td>The Alliance</td>\n",
       "      <td>8.0</td>\n",
       "      <td>5579</td>\n",
       "      <td>0</td>\n",
       "      <td>4</td>\n",
       "      <td>0.007285</td>\n",
       "      <td>4</td>\n",
       "      <td>0</td>\n",
       "      <td>0</td>\n",
       "      <td>...</td>\n",
       "      <td>2</td>\n",
       "      <td>1</td>\n",
       "      <td>1</td>\n",
       "      <td>0</td>\n",
       "      <td>0</td>\n",
       "      <td>0</td>\n",
       "      <td>0</td>\n",
       "      <td>0</td>\n",
       "      <td>1</td>\n",
       "      <td>1</td>\n",
       "    </tr>\n",
       "    <tr>\n",
       "      <th>4</th>\n",
       "      <td>1</td>\n",
       "      <td>Basketball</td>\n",
       "      <td>8.4</td>\n",
       "      <td>6183</td>\n",
       "      <td>0</td>\n",
       "      <td>5</td>\n",
       "      <td>0.008073</td>\n",
       "      <td>4</td>\n",
       "      <td>0</td>\n",
       "      <td>0</td>\n",
       "      <td>...</td>\n",
       "      <td>0</td>\n",
       "      <td>0</td>\n",
       "      <td>3</td>\n",
       "      <td>2</td>\n",
       "      <td>0</td>\n",
       "      <td>0</td>\n",
       "      <td>0</td>\n",
       "      <td>0</td>\n",
       "      <td>0</td>\n",
       "      <td>1</td>\n",
       "    </tr>\n",
       "  </tbody>\n",
       "</table>\n",
       "<p>5 rows × 343 columns</p>\n",
       "</div>"
      ],
      "text/plain": [
       "   season          title  rating  votes  double  episode  votes_norm  month  \\\n",
       "0       1          Pilot     7.4   7006       0        1    0.009148      3   \n",
       "1       1  Diversity Day     8.3   6902       0        2    0.009012      3   \n",
       "2       1    Health Care     7.7   5756       0        3    0.007516      4   \n",
       "3       1   The Alliance     8.0   5579       0        4    0.007285      4   \n",
       "4       1     Basketball     8.4   6183       0        5    0.008073      4   \n",
       "\n",
       "   writer_B.J._Novak  writer_Mindy_Kaling  ...  whispering  screaming  \\\n",
       "0                  0                    0  ...           0          1   \n",
       "1                  1                    0  ...           0          0   \n",
       "2                  0                    0  ...           0          0   \n",
       "3                  0                    0  ...           2          1   \n",
       "4                  0                    0  ...           0          0   \n",
       "\n",
       "   singing  applause  accent  crying  smiling  sigh  kiss  one  \n",
       "0        1         0       0       1        0     1     0    1  \n",
       "1        0         0       3       1        0     0     0    1  \n",
       "2        0         1       0       0        0     0     0    1  \n",
       "3        1         0       0       0        0     0     1    1  \n",
       "4        3         2       0       0        0     0     0    1  \n",
       "\n",
       "[5 rows x 343 columns]"
      ]
     },
     "execution_count": 3,
     "metadata": {},
     "output_type": "execute_result"
    }
   ],
   "source": [
    "df.head()"
   ]
  },
  {
   "cell_type": "code",
   "execution_count": 4,
   "metadata": {},
   "outputs": [],
   "source": [
    "def RMSE(y, y_pred):\n",
    "    SME = sum((y - y_pred)**2)\n",
    "    \n",
    "    return round(math.sqrt(SME/len(y)),3)"
   ]
  },
  {
   "cell_type": "code",
   "execution_count": 473,
   "metadata": {},
   "outputs": [],
   "source": [
    "import statsmodels.formula.api as smf\n",
    "\n",
    "def linear_regression(train, test, model_features,weights=None):\n",
    "    formula = 'rating ~ '\n",
    "\n",
    "    for value in model_features:\n",
    "        if value != 'rating':\n",
    "            formula += value + \" + \"\n",
    "\n",
    "    formula = formula[:-2]\n",
    "\n",
    "    print(formula)\n",
    "    print()\n",
    "    \n",
    "    if weights is not None:\n",
    "        model = smf.ols(formula, data=train, weights=weights)\n",
    "    else:\n",
    "        model = smf.ols(formula, data=train)\n",
    "        \n",
    "    results = model.fit()\n",
    "    \n",
    "    print(results.summary())\n",
    "\n",
    "\n",
    "    prediction = results.predict(test[model_features])\n",
    "\n",
    "    fig,ax = plt.subplots(figsize=(18,4), nrows=1, ncols=3)\n",
    "    \n",
    "    sns.scatterplot(x=test.rating.values, y=prediction.values, ax=ax[0]).set(title=f'RMSE={RMSE(test.rating.values, prediction.values)}')\n",
    "    sns.lineplot(x=[7,8,9], y=[7,8,9], ax=ax[0])\n",
    "    \n",
    "    sns.kdeplot(prediction-test.rating,ax=ax[1]).set(title='KDE of residuals')\n",
    "    sns.scatterplot(x=test.index, y=prediction-test.rating,ax=ax[2]).set(title='residuals across episodes')\n",
    "    \n",
    "    return results"
   ]
  },
  {
   "cell_type": "markdown",
   "metadata": {},
   "source": [
    "## Delete features are not used in model"
   ]
  },
  {
   "cell_type": "code",
   "execution_count": 629,
   "metadata": {},
   "outputs": [],
   "source": [
    "columns = df.columns\n",
    "\n",
    "characters_words_total = [word for word in columns if '_words_total' in word]"
   ]
  },
  {
   "cell_type": "code",
   "execution_count": 630,
   "metadata": {},
   "outputs": [],
   "source": [
    "to_drop = ['title','season','episode','month','one'] + characters_words_total"
   ]
  },
  {
   "cell_type": "code",
   "execution_count": 631,
   "metadata": {},
   "outputs": [],
   "source": [
    "df_model = df.drop(columns=to_drop, axis=1)"
   ]
  },
  {
   "cell_type": "markdown",
   "metadata": {},
   "source": [
    "## Rename features with dot"
   ]
  },
  {
   "cell_type": "code",
   "execution_count": 632,
   "metadata": {},
   "outputs": [
    {
     "name": "stdout",
     "output_type": "stream",
     "text": [
      "writer_B.J._Novak writer_B_J__Novak\n",
      "writer_Anthony_Q._Farrell writer_Anthony_Q__Farrell\n",
      "writer_Nicki_Schwartz-Wright writer_Nicki_Schwartz_Wright\n",
      "director_B.J._Novak director_B_J__Novak\n",
      "director_Victor_Nelli_Jr. director_Victor_Nelli_Jr_\n",
      "director_J.J._Abrams director_J_J__Abrams\n",
      "director_Kelly_Cantley-Kashima director_Kelly_Cantley_Kashima\n"
     ]
    }
   ],
   "source": [
    "for name in df_model.columns:\n",
    "    if '.' in name:\n",
    "        print(name,name.replace('.','_'))\n",
    "        df_model.rename(columns={name: name.replace('.','_')},inplace=True)\n",
    "        \n",
    "    if '-' in name:\n",
    "        print(name,name.replace('-','_'))\n",
    "        df_model.rename(columns={name: name.replace('-','_')},inplace=True)"
   ]
  },
  {
   "cell_type": "markdown",
   "metadata": {},
   "source": [
    "## train-test splittin"
   ]
  },
  {
   "cell_type": "code",
   "execution_count": 633,
   "metadata": {},
   "outputs": [],
   "source": [
    "from sklearn.model_selection import train_test_split\n",
    "train, test = train_test_split(df_model, test_size=0.30, shuffle=True, random_state=1)"
   ]
  },
  {
   "cell_type": "code",
   "execution_count": 634,
   "metadata": {},
   "outputs": [],
   "source": [
    "x_train = train.drop(columns=['rating', 'votes','votes_norm'], axis=1)\n",
    "y_train = train.rating\n",
    "\n",
    "x_test = test.drop(columns=['rating', 'votes','votes_norm'], axis=1)\n",
    "y_test = test.rating"
   ]
  },
  {
   "cell_type": "code",
   "execution_count": 635,
   "metadata": {},
   "outputs": [
    {
     "data": {
      "text/plain": [
       "130"
      ]
     },
     "execution_count": 635,
     "metadata": {},
     "output_type": "execute_result"
    }
   ],
   "source": [
    "len(x_train)"
   ]
  },
  {
   "cell_type": "code",
   "execution_count": 636,
   "metadata": {},
   "outputs": [
    {
     "data": {
      "text/plain": [
       "<AxesSubplot:ylabel='rating'>"
      ]
     },
     "execution_count": 636,
     "metadata": {},
     "output_type": "execute_result"
    },
    {
     "data": {
      "image/png": "[encoded data removed]",
      "text/plain": [
       "<Figure size 432x288 with 1 Axes>"
      ]
     },
     "metadata": {
      "needs_background": "light"
     },
     "output_type": "display_data"
    }
   ],
   "source": [
    "sns.scatterplot(x=train.index,y=train.rating)\n",
    "sns.scatterplot(x=test.index,y=test.rating)"
   ]
  },
  {
   "cell_type": "markdown",
   "metadata": {},
   "source": [
    "## Choosing most important properties using random forest"
   ]
  },
  {
   "cell_type": "code",
   "execution_count": 20,
   "metadata": {},
   "outputs": [],
   "source": [
    "from sklearn.ensemble import RandomForestRegressor"
   ]
  },
  {
   "cell_type": "markdown",
   "metadata": {},
   "source": [
    "### tune hyperparameter with RandomizedSearchCV"
   ]
  },
  {
   "cell_type": "code",
   "execution_count": 50,
   "metadata": {},
   "outputs": [],
   "source": [
    "from sklearn.model_selection import RandomizedSearchCV"
   ]
  },
  {
   "cell_type": "code",
   "execution_count": 51,
   "metadata": {},
   "outputs": [],
   "source": [
    "from pprint import pprint"
   ]
  },
  {
   "cell_type": "code",
   "execution_count": 138,
   "metadata": {},
   "outputs": [],
   "source": [
    "dtree = RandomForestRegressor()"
   ]
  },
  {
   "cell_type": "code",
   "execution_count": 210,
   "metadata": {},
   "outputs": [
    {
     "name": "stdout",
     "output_type": "stream",
     "text": [
      "{'bootstrap': [True],\n",
      " 'max_depth': [10, 60, 110, None],\n",
      " 'max_features': [None, 'sqrt', 0.3, 0.6, 0.9],\n",
      " 'min_samples_leaf': [10, 50, 100],\n",
      " 'min_samples_split': [10, 50, 100],\n",
      " 'n_estimators': [50, 500, 100, 2000]}\n"
     ]
    }
   ],
   "source": [
    "## Number of trees in random forest\n",
    "n_estimators = [50,500,100, 2000]\n",
    "\n",
    "# Number of features to consider at every split\n",
    "max_features = [None, 'sqrt', 0.3, 0.6, 0.9]\n",
    "\n",
    "# Maximum number of levels in tree\n",
    "max_depth = [int(x) for x in np.linspace(10, 110, num = 3)]\n",
    "max_depth.append(None)\n",
    "\n",
    "# Minimum number of samples required to split a node\n",
    "min_samples_split = [10, 50, 100]\n",
    "\n",
    "# Minimum number of samples required at each leaf node\n",
    "min_samples_leaf = [10, 50, 100]\n",
    "\n",
    "\n",
    "# Create the random grid\n",
    "random_grid = {'n_estimators': n_estimators,\n",
    "               'max_features': max_features,\n",
    "               'max_depth': max_depth,\n",
    "               'min_samples_split': min_samples_split,\n",
    "               'min_samples_leaf': min_samples_leaf,\n",
    "               'bootstrap': bootstrap}\n",
    "pprint(random_grid)"
   ]
  },
  {
   "cell_type": "code",
   "execution_count": 211,
   "metadata": {},
   "outputs": [],
   "source": [
    "rf_random = RandomizedSearchCV(estimator = dtree, \n",
    "                               param_distributions = random_grid, \n",
    "                               n_iter = 100, \n",
    "                               cv = 5, verbose=2, \n",
    "                               random_state=42, \n",
    "                               n_jobs = -1)"
   ]
  },
  {
   "cell_type": "code",
   "execution_count": 226,
   "metadata": {},
   "outputs": [
    {
     "name": "stdout",
     "output_type": "stream",
     "text": [
      "Fitting 5 folds for each of 100 candidates, totalling 500 fits\n"
     ]
    },
    {
     "name": "stderr",
     "output_type": "stream",
     "text": [
      "[Parallel(n_jobs=-1)]: Using backend LokyBackend with 4 concurrent workers.\n",
      "[Parallel(n_jobs=-1)]: Done  33 tasks      | elapsed:   17.6s\n",
      "[Parallel(n_jobs=-1)]: Done 154 tasks      | elapsed:  1.1min\n",
      "[Parallel(n_jobs=-1)]: Done 357 tasks      | elapsed:  3.4min\n",
      "[Parallel(n_jobs=-1)]: Done 500 out of 500 | elapsed:  4.3min finished\n"
     ]
    },
    {
     "data": {
      "text/plain": [
       "RandomizedSearchCV(cv=5,\n",
       "                   estimator=RandomForestRegressor(max_features=0.6,\n",
       "                                                   n_estimators=50),\n",
       "                   n_iter=100, n_jobs=-1,\n",
       "                   param_distributions={'bootstrap': [True],\n",
       "                                        'max_depth': [10, 60, 110, None],\n",
       "                                        'max_features': [None, 'sqrt', 0.3, 0.6,\n",
       "                                                         0.9],\n",
       "                                        'min_samples_leaf': [10, 50, 100],\n",
       "                                        'min_samples_split': [10, 50, 100],\n",
       "                                        'n_estimators': [50, 500, 100, 2000]},\n",
       "                   random_state=42, verbose=2)"
      ]
     },
     "execution_count": 226,
     "metadata": {},
     "output_type": "execute_result"
    }
   ],
   "source": [
    "rf_random.fit(x_train, y_train)"
   ]
  },
  {
   "cell_type": "code",
   "execution_count": 227,
   "metadata": {},
   "outputs": [
    {
     "name": "stdout",
     "output_type": "stream",
     "text": [
      "{'n_estimators': 100, 'min_samples_split': 10, 'min_samples_leaf': 10, 'max_features': None, 'max_depth': 10, 'bootstrap': True}\n"
     ]
    }
   ],
   "source": [
    "print(rf_random.best_params_)"
   ]
  },
  {
   "cell_type": "markdown",
   "metadata": {},
   "source": [
    "### GridSearchCV\n",
    "\n",
    "{'n_estimators': 500, 'min_samples_split': 10, 'min_samples_leaf': 10, 'max_features': 0.9, 'max_depth': 10, 'bootstrap': True}"
   ]
  },
  {
   "cell_type": "code",
   "execution_count": 214,
   "metadata": {},
   "outputs": [],
   "source": [
    "from sklearn.model_selection import GridSearchCV"
   ]
  },
  {
   "cell_type": "code",
   "execution_count": 215,
   "metadata": {},
   "outputs": [],
   "source": [
    "param_grid = {\n",
    "    'max_depth': [ 10, 30, 50, None],\n",
    "    'max_features': [0.7, 0.8, 0.9, None],\n",
    "    'min_samples_split' : [5, 10, 15],\n",
    "    'min_samples_leaf' : [5, 10, 15],\n",
    "    'n_estimators': [500,1000, 2000]\n",
    "}"
   ]
  },
  {
   "cell_type": "code",
   "execution_count": 216,
   "metadata": {},
   "outputs": [],
   "source": [
    "grid_search = GridSearchCV(estimator = dtree, param_grid = param_grid, \n",
    "                          cv = 5, n_jobs = -1, verbose = 2)"
   ]
  },
  {
   "cell_type": "code",
   "execution_count": 217,
   "metadata": {},
   "outputs": [
    {
     "name": "stdout",
     "output_type": "stream",
     "text": [
      "Fitting 5 folds for each of 432 candidates, totalling 2160 fits\n"
     ]
    },
    {
     "name": "stderr",
     "output_type": "stream",
     "text": [
      "[Parallel(n_jobs=-1)]: Using backend LokyBackend with 4 concurrent workers.\n",
      "[Parallel(n_jobs=-1)]: Done  33 tasks      | elapsed:   36.3s\n",
      "[Parallel(n_jobs=-1)]: Done 154 tasks      | elapsed:  3.1min\n",
      "[Parallel(n_jobs=-1)]: Done 357 tasks      | elapsed:  6.7min\n",
      "[Parallel(n_jobs=-1)]: Done 640 tasks      | elapsed: 13.1min\n",
      "[Parallel(n_jobs=-1)]: Done 1005 tasks      | elapsed: 21.1min\n",
      "[Parallel(n_jobs=-1)]: Done 1450 tasks      | elapsed: 30.5min\n",
      "[Parallel(n_jobs=-1)]: Done 1977 tasks      | elapsed: 40.0min\n",
      "[Parallel(n_jobs=-1)]: Done 2160 out of 2160 | elapsed: 43.2min finished\n"
     ]
    },
    {
     "data": {
      "text/plain": [
       "GridSearchCV(cv=5,\n",
       "             estimator=RandomForestRegressor(max_features=0.6, n_estimators=50),\n",
       "             n_jobs=-1,\n",
       "             param_grid={'max_depth': [10, 30, 50, None],\n",
       "                         'max_features': [0.7, 0.8, 0.9, None],\n",
       "                         'min_samples_leaf': [5, 10, 15],\n",
       "                         'min_samples_split': [5, 10, 15],\n",
       "                         'n_estimators': [500, 1000, 2000]},\n",
       "             verbose=2)"
      ]
     },
     "execution_count": 217,
     "metadata": {},
     "output_type": "execute_result"
    }
   ],
   "source": [
    "grid_search.fit(x_train, y_train,sample_weight=train.votes_norm)"
   ]
  },
  {
   "cell_type": "code",
   "execution_count": 218,
   "metadata": {},
   "outputs": [
    {
     "data": {
      "text/plain": [
       "{'max_depth': None,\n",
       " 'max_features': 0.9,\n",
       " 'min_samples_leaf': 5,\n",
       " 'min_samples_split': 5,\n",
       " 'n_estimators': 1000}"
      ]
     },
     "execution_count": 218,
     "metadata": {},
     "output_type": "execute_result"
    }
   ],
   "source": [
    "grid_search.best_params_"
   ]
  },
  {
   "cell_type": "markdown",
   "metadata": {},
   "source": [
    "### Fit with best param"
   ]
  },
  {
   "cell_type": "code",
   "execution_count": 289,
   "metadata": {},
   "outputs": [
    {
     "name": "stdout",
     "output_type": "stream",
     "text": [
      "RMSE = 0.459\n",
      "R2 = 0.36\n"
     ]
    }
   ],
   "source": [
    "dtree = RandomForestRegressor(max_features= None, \n",
    "                              n_estimators= 100,\n",
    "                              min_samples_split = 10,\n",
    "                              min_samples_leaf = 10,\n",
    "                             max_depth=10 )\n",
    "dtree.fit(x_train, y_train)\n",
    "\n",
    "prediction = dtree.predict(x_test)\n",
    "\n",
    "print(f\"RMSE = {RMSE(y_test, prediction)}\")\n",
    "\n",
    "mean_y = test.rating.values.mean()\n",
    "\n",
    "print(f\"R2 = {round(1 - sum((test.rating.values-prediction)**2)/sum((test.rating.values-mean_y)**2),2)}\")"
   ]
  },
  {
   "cell_type": "code",
   "execution_count": 290,
   "metadata": {},
   "outputs": [
    {
     "data": {
      "text/plain": [
       "[Text(0.5, 1.0, 'residuals across episodes')]"
      ]
     },
     "execution_count": 290,
     "metadata": {},
     "output_type": "execute_result"
    },
    {
     "data": {
      "image/png": "[encoded data removed]",
      "text/plain": [
       "<Figure size 1296x288 with 3 Axes>"
      ]
     },
     "metadata": {
      "needs_background": "light"
     },
     "output_type": "display_data"
    }
   ],
   "source": [
    "fig,ax = plt.subplots(figsize=(18,4), nrows=1, ncols=3)\n",
    "    \n",
    "sns.scatterplot(x=test.rating.values, y=prediction, ax=ax[0]).set(title=f'RMSE={RMSE(test.rating.values, prediction)}')\n",
    "sns.kdeplot(prediction-test.rating,ax=ax[1]).set(title='KDE of residuals')\n",
    "sns.scatterplot(x=test.index, y=prediction-test.rating,ax=ax[2]).set(title='residuals across episodes')"
   ]
  },
  {
   "cell_type": "code",
   "execution_count": 291,
   "metadata": {},
   "outputs": [
    {
     "data": {
      "text/plain": [
       "<AxesSubplot:xlabel='Importance', ylabel='Variable'>"
      ]
     },
     "execution_count": 291,
     "metadata": {},
     "output_type": "execute_result"
    },
    {
     "data": {
      "image/png": "[encoded data removed]",
      "text/plain": [
       "<Figure size 864x576 with 1 Axes>"
      ]
     },
     "metadata": {
      "needs_background": "light"
     },
     "output_type": "display_data"
    }
   ],
   "source": [
    "importance = pd.DataFrame({'Variable':train.drop(columns=['rating', 'votes','votes_norm'], axis=1).columns,\n",
    "              'Importance':grid_search.best_estimator_.feature_importances_}).sort_values('Importance', ascending=False)\n",
    "\n",
    "plt.figure(figsize=(12,8))\n",
    "sns.barplot(x=importance[importance.Importance > 0.01].Importance, y=importance[importance.Importance > 0.01].Variable)"
   ]
  },
  {
   "cell_type": "markdown",
   "metadata": {},
   "source": [
    "## Linear regression"
   ]
  },
  {
   "cell_type": "code",
   "execution_count": 284,
   "metadata": {},
   "outputs": [],
   "source": [
    "importance = pd.DataFrame({'Variable':x_train.columns,\n",
    "              'Importance':dtree.feature_importances_}).sort_values('Importance', ascending=False)"
   ]
  },
  {
   "cell_type": "code",
   "execution_count": 235,
   "metadata": {},
   "outputs": [
    {
     "data": {
      "text/html": [
       "<div>\n",
       "<style scoped>\n",
       "    .dataframe tbody tr th:only-of-type {\n",
       "        vertical-align: middle;\n",
       "    }\n",
       "\n",
       "    .dataframe tbody tr th {\n",
       "        vertical-align: top;\n",
       "    }\n",
       "\n",
       "    .dataframe thead th {\n",
       "        text-align: right;\n",
       "    }\n",
       "</style>\n",
       "<table border=\"1\" class=\"dataframe\">\n",
       "  <thead>\n",
       "    <tr style=\"text-align: right;\">\n",
       "      <th></th>\n",
       "      <th>Variable</th>\n",
       "      <th>Importance</th>\n",
       "    </tr>\n",
       "  </thead>\n",
       "  <tbody>\n",
       "    <tr>\n",
       "      <th>96</th>\n",
       "      <td>words</td>\n",
       "      <td>0.269008</td>\n",
       "    </tr>\n",
       "    <tr>\n",
       "      <th>97</th>\n",
       "      <td>Michael_words</td>\n",
       "      <td>0.255114</td>\n",
       "    </tr>\n",
       "    <tr>\n",
       "      <th>101</th>\n",
       "      <td>Andy_words</td>\n",
       "      <td>0.089895</td>\n",
       "    </tr>\n",
       "    <tr>\n",
       "      <th>106</th>\n",
       "      <td>Ryan_words</td>\n",
       "      <td>0.046263</td>\n",
       "    </tr>\n",
       "    <tr>\n",
       "      <th>108</th>\n",
       "      <td>Phyllis_words</td>\n",
       "      <td>0.029777</td>\n",
       "    </tr>\n",
       "    <tr>\n",
       "      <th>109</th>\n",
       "      <td>Kelly_words</td>\n",
       "      <td>0.024809</td>\n",
       "    </tr>\n",
       "    <tr>\n",
       "      <th>271</th>\n",
       "      <td>dunder</td>\n",
       "      <td>0.020184</td>\n",
       "    </tr>\n",
       "    <tr>\n",
       "      <th>286</th>\n",
       "      <td>death</td>\n",
       "      <td>0.017941</td>\n",
       "    </tr>\n",
       "    <tr>\n",
       "      <th>268</th>\n",
       "      <td>number_of_dialog</td>\n",
       "      <td>0.017718</td>\n",
       "    </tr>\n",
       "    <tr>\n",
       "      <th>99</th>\n",
       "      <td>Jim_words</td>\n",
       "      <td>0.017466</td>\n",
       "    </tr>\n",
       "    <tr>\n",
       "      <th>303</th>\n",
       "      <td>sigh</td>\n",
       "      <td>0.015087</td>\n",
       "    </tr>\n",
       "    <tr>\n",
       "      <th>280</th>\n",
       "      <td>love</td>\n",
       "      <td>0.011938</td>\n",
       "    </tr>\n",
       "    <tr>\n",
       "      <th>267</th>\n",
       "      <td>dialog_mean_length</td>\n",
       "      <td>0.010213</td>\n",
       "    </tr>\n",
       "    <tr>\n",
       "      <th>128</th>\n",
       "      <td>Jim_about_Dwight</td>\n",
       "      <td>0.010208</td>\n",
       "    </tr>\n",
       "    <tr>\n",
       "      <th>200</th>\n",
       "      <td>Andy_Erin_dialog</td>\n",
       "      <td>0.009868</td>\n",
       "    </tr>\n",
       "    <tr>\n",
       "      <th>115</th>\n",
       "      <td>Nellie_words</td>\n",
       "      <td>0.008650</td>\n",
       "    </tr>\n",
       "    <tr>\n",
       "      <th>273</th>\n",
       "      <td>sales</td>\n",
       "      <td>0.008343</td>\n",
       "    </tr>\n",
       "    <tr>\n",
       "      <th>270</th>\n",
       "      <td>scranton</td>\n",
       "      <td>0.008274</td>\n",
       "    </tr>\n",
       "    <tr>\n",
       "      <th>134</th>\n",
       "      <td>Jim_Michael_dialog</td>\n",
       "      <td>0.008192</td>\n",
       "    </tr>\n",
       "    <tr>\n",
       "      <th>282</th>\n",
       "      <td>paper</td>\n",
       "      <td>0.007805</td>\n",
       "    </tr>\n",
       "  </tbody>\n",
       "</table>\n",
       "</div>"
      ],
      "text/plain": [
       "               Variable  Importance\n",
       "96                words    0.269008\n",
       "97        Michael_words    0.255114\n",
       "101          Andy_words    0.089895\n",
       "106          Ryan_words    0.046263\n",
       "108       Phyllis_words    0.029777\n",
       "109         Kelly_words    0.024809\n",
       "271              dunder    0.020184\n",
       "286               death    0.017941\n",
       "268    number_of_dialog    0.017718\n",
       "99            Jim_words    0.017466\n",
       "303                sigh    0.015087\n",
       "280                love    0.011938\n",
       "267  dialog_mean_length    0.010213\n",
       "128    Jim_about_Dwight    0.010208\n",
       "200    Andy_Erin_dialog    0.009868\n",
       "115        Nellie_words    0.008650\n",
       "273               sales    0.008343\n",
       "270            scranton    0.008274\n",
       "134  Jim_Michael_dialog    0.008192\n",
       "282               paper    0.007805"
      ]
     },
     "execution_count": 235,
     "metadata": {},
     "output_type": "execute_result"
    }
   ],
   "source": [
    "importance[:20]"
   ]
  },
  {
   "cell_type": "markdown",
   "metadata": {},
   "source": [
    "### find square dependencies"
   ]
  },
  {
   "cell_type": "code",
   "execution_count": 237,
   "metadata": {},
   "outputs": [],
   "source": [
    "from sklearn import linear_model"
   ]
  },
  {
   "cell_type": "code",
   "execution_count": 236,
   "metadata": {},
   "outputs": [],
   "source": [
    "from sklearn.model_selection import cross_validate"
   ]
  },
  {
   "cell_type": "code",
   "execution_count": 507,
   "metadata": {},
   "outputs": [],
   "source": [
    "ols = linear_model.LinearRegression()"
   ]
  },
  {
   "cell_type": "code",
   "execution_count": 265,
   "metadata": {},
   "outputs": [],
   "source": [
    "num_features = 20"
   ]
  },
  {
   "cell_type": "code",
   "execution_count": 270,
   "metadata": {},
   "outputs": [
    {
     "name": "stdout",
     "output_type": "stream",
     "text": [
      "all linear: r2=0.11, RMSE=-0.52\n"
     ]
    }
   ],
   "source": [
    "cv_results = cross_validate(ols, x_train[importance.iloc[:num_features].Variable], y_train, cv=10,scoring=('r2', 'neg_root_mean_squared_error'))\n",
    "print(f\"all linear: r2={round(cv_results['test_r2'].mean(),2)}, RMSE={round(cv_results['test_neg_root_mean_squared_error'].mean(),2)}\")"
   ]
  },
  {
   "cell_type": "code",
   "execution_count": 325,
   "metadata": {},
   "outputs": [],
   "source": [
    "\n",
    "results = {}\n",
    "for feature in importance.iloc[:num_features].Variable:\n",
    "    X = x_train[importance.iloc[:num_features].Variable].copy(deep = True)\n",
    "    X[feature] = X[feature].apply(lambda x: x*x)\n",
    "    \n",
    "    cv_results = cross_validate(ols, X, y_train, cv=10,scoring=('r2', 'neg_root_mean_squared_error'))\n",
    "    \n",
    "    results.update({feature: {'r2':round(cv_results['test_r2'].mean(),2), 'RMSE': round(cv_results['test_neg_root_mean_squared_error'].mean(),2)}})"
   ]
  },
  {
   "cell_type": "code",
   "execution_count": 326,
   "metadata": {},
   "outputs": [
    {
     "data": {
      "text/plain": [
       "{'words': {'r2': 0.01, 'RMSE': -0.55},\n",
       " 'Michael_words': {'r2': -0.05, 'RMSE': -0.56},\n",
       " 'Andy_words': {'r2': 0.01, 'RMSE': -0.54},\n",
       " 'Ryan_words': {'r2': 0.01, 'RMSE': -0.54},\n",
       " 'Jim_words': {'r2': 0.01, 'RMSE': -0.54},\n",
       " 'Phyllis_words': {'r2': 0.01, 'RMSE': -0.54},\n",
       " 'dunder': {'r2': 0.02, 'RMSE': -0.54},\n",
       " 'double': {'r2': 0.02, 'RMSE': -0.54},\n",
       " 'Kelly_words': {'r2': 0.02, 'RMSE': -0.54},\n",
       " 'crying': {'r2': 0.03, 'RMSE': -0.54},\n",
       " 'Dwight_words': {'r2': 0.01, 'RMSE': -0.54},\n",
       " 'Stanley_words': {'r2': 0.02, 'RMSE': -0.54},\n",
       " 'Roy_words': {'r2': 0.01, 'RMSE': -0.55},\n",
       " 'number_of_dialog': {'r2': 0.02, 'RMSE': -0.54},\n",
       " 'dialog_mean_length': {'r2': 0.01, 'RMSE': -0.54},\n",
       " 'Erin_words': {'r2': 0.03, 'RMSE': -0.54},\n",
       " 'love': {'r2': -0.03, 'RMSE': -0.55},\n",
       " 'scranton': {'r2': 0.0, 'RMSE': -0.55},\n",
       " 'Jim_about_Pam': {'r2': 0.02, 'RMSE': -0.54},\n",
       " 'stupid': {'r2': -0.09, 'RMSE': -0.56}}"
      ]
     },
     "execution_count": 326,
     "metadata": {},
     "output_type": "execute_result"
    }
   ],
   "source": [
    "results"
   ]
  },
  {
   "cell_type": "code",
   "execution_count": 323,
   "metadata": {},
   "outputs": [
    {
     "data": {
      "text/plain": [
       "96                  words\n",
       "97          Michael_words\n",
       "101            Andy_words\n",
       "106            Ryan_words\n",
       "99              Jim_words\n",
       "108         Phyllis_words\n",
       "271                dunder\n",
       "0                  double\n",
       "109           Kelly_words\n",
       "301                crying\n",
       "98           Dwight_words\n",
       "112         Stanley_words\n",
       "123             Roy_words\n",
       "268      number_of_dialog\n",
       "267    dialog_mean_length\n",
       "104            Erin_words\n",
       "280                  love\n",
       "270              scranton\n",
       "127         Jim_about_Pam\n",
       "272                stupid\n",
       "Name: Variable, dtype: object"
      ]
     },
     "execution_count": 323,
     "metadata": {},
     "output_type": "execute_result"
    }
   ],
   "source": [
    "importance.iloc[:num_features].Variable"
   ]
  },
  {
   "cell_type": "code",
   "execution_count": 327,
   "metadata": {},
   "outputs": [],
   "source": [
    "X = x_train[importance.iloc[:num_features].Variable].copy(deep = True)\n",
    "\n",
    "for feature in importance.iloc[:num_features].Variable:\n",
    "    X1 = X.copy(deep=True)\n",
    "    X2 = X.copy(deep=True)\n",
    "    \n",
    "    X2[feature] = X[feature].apply(lambda x: x*x)\n",
    "    X2.rename(columns={feature: feature+'_sqrt'},inplace=True)\n",
    "    \n",
    "    cv1 = cross_validate(ols, X1, y_train, cv=10,scoring=('r2', 'neg_root_mean_squared_error'))\n",
    "    cv2 = cross_validate(ols, X2, y_train, cv=10,scoring=('r2', 'neg_root_mean_squared_error'))\n",
    "    \n",
    "    if abs(cv1['test_neg_root_mean_squared_error'].mean()) > abs(cv2['test_neg_root_mean_squared_error'].mean()):\n",
    "        X = X2.copy(deep=True)\n",
    "    else:\n",
    "        X=X1"
   ]
  },
  {
   "cell_type": "code",
   "execution_count": 322,
   "metadata": {},
   "outputs": [
    {
     "name": "stdout",
     "output_type": "stream",
     "text": [
      "crying_sqrt\n",
      "Erin_words_sqrt\n",
      "Jim_about_Pam_sqrt\n"
     ]
    }
   ],
   "source": [
    "for name in X.columns:\n",
    "    if '_sqrt' in name:\n",
    "        print(name)"
   ]
  },
  {
   "cell_type": "code",
   "execution_count": 316,
   "metadata": {},
   "outputs": [],
   "source": [
    "test_2 = x_test[importance.iloc[:num_features].Variable].copy(deep = True)\n",
    "\n",
    "for feature in X.columns:\n",
    "    if '_sqrt' in feature:\n",
    "        old_name = feature.replace('_sqrt','')\n",
    "        test_2[old_name] = test_2[old_name].apply(lambda x: x*x)\n",
    "        test_2.rename(columns={old_name:feature},inplace=True)"
   ]
  },
  {
   "cell_type": "code",
   "execution_count": 318,
   "metadata": {},
   "outputs": [],
   "source": [
    "X['rating'] = y_train\n",
    "test_2['rating'] = y_test"
   ]
  },
  {
   "cell_type": "code",
   "execution_count": null,
   "metadata": {},
   "outputs": [],
   "source": []
  },
  {
   "cell_type": "code",
   "execution_count": 319,
   "metadata": {},
   "outputs": [
    {
     "name": "stdout",
     "output_type": "stream",
     "text": [
      "rating ~ words + Michael_words + Andy_words + Ryan_words + Jim_words + Phyllis_words + dunder + double + Kelly_words + crying_sqrt + Dwight_words + Stanley_words + Roy_words + number_of_dialog + dialog_mean_length + Erin_words_sqrt + love + scranton + Jim_about_Pam_sqrt + stupid \n",
      "\n",
      "                            OLS Regression Results                            \n",
      "==============================================================================\n",
      "Dep. Variable:                 rating   R-squared:                       0.475\n",
      "Model:                            OLS   Adj. R-squared:                  0.378\n",
      "Method:                 Least Squares   F-statistic:                     4.925\n",
      "Date:                Wed, 02 Feb 2022   Prob (F-statistic):           2.19e-08\n",
      "Time:                        19:10:51   Log-Likelihood:                -81.547\n",
      "No. Observations:                 130   AIC:                             205.1\n",
      "Df Residuals:                     109   BIC:                             265.3\n",
      "Df Model:                          20                                         \n",
      "Covariance Type:            nonrobust                                         \n",
      "======================================================================================\n",
      "                         coef    std err          t      P>|t|      [0.025      0.975]\n",
      "--------------------------------------------------------------------------------------\n",
      "Intercept              6.8034      0.599     11.352      0.000       5.616       7.991\n",
      "words               9.921e-05      0.000      0.625      0.533      -0.000       0.000\n",
      "Michael_words          0.0142      0.005      2.702      0.008       0.004       0.025\n",
      "Andy_words            -0.0044      0.009     -0.474      0.637      -0.023       0.014\n",
      "Ryan_words             0.0014      0.016      0.089      0.930      -0.031       0.034\n",
      "Jim_words              0.0196      0.011      1.783      0.077      -0.002       0.041\n",
      "Phyllis_words          0.0394      0.031      1.286      0.201      -0.021       0.100\n",
      "dunder                 0.8961      0.658      1.361      0.176      -0.409       2.201\n",
      "double                 0.3729      0.400      0.933      0.353      -0.419       1.165\n",
      "Kelly_words            0.0319      0.025      1.257      0.211      -0.018       0.082\n",
      "crying_sqrt            0.0220      0.008      2.690      0.008       0.006       0.038\n",
      "Dwight_words           0.0055      0.009      0.617      0.539      -0.012       0.023\n",
      "Stanley_words          0.0311      0.041      0.762      0.447      -0.050       0.112\n",
      "Roy_words              0.0620      0.048      1.294      0.198      -0.033       0.157\n",
      "number_of_dialog       0.0034      0.003      1.008      0.316      -0.003       0.010\n",
      "dialog_mean_length    -0.0082      0.080     -0.102      0.919      -0.168       0.151\n",
      "Erin_words_sqrt       -0.0010      0.001     -0.774      0.441      -0.004       0.002\n",
      "love                   0.5103      0.441      1.158      0.249      -0.363       1.384\n",
      "scranton              -0.4518      0.512     -0.883      0.379      -1.466       0.563\n",
      "Jim_about_Pam_sqrt     0.0131      0.097      0.135      0.893      -0.179       0.205\n",
      "stupid                 0.3755      1.157      0.325      0.746      -1.917       2.668\n",
      "==============================================================================\n",
      "Omnibus:                        0.091   Durbin-Watson:                   2.041\n",
      "Prob(Omnibus):                  0.956   Jarque-Bera (JB):                0.003\n",
      "Skew:                           0.011   Prob(JB):                        0.999\n",
      "Kurtosis:                       3.003   Cond. No.                     8.36e+04\n",
      "==============================================================================\n",
      "\n",
      "Notes:\n",
      "[1] Standard Errors assume that the covariance matrix of the errors is correctly specified.\n",
      "[2] The condition number is large, 8.36e+04. This might indicate that there are\n",
      "strong multicollinearity or other numerical problems.\n"
     ]
    },
    {
     "data": {
      "text/plain": [
       "<statsmodels.regression.linear_model.RegressionResultsWrapper at 0x1e6a15e7ca0>"
      ]
     },
     "execution_count": 319,
     "metadata": {},
     "output_type": "execute_result"
    },
    {
     "data": {
      "image/png": "[encoded data removed]",
      "text/plain": [
       "<Figure size 1296x288 with 3 Axes>"
      ]
     },
     "metadata": {
      "needs_background": "light"
     },
     "output_type": "display_data"
    }
   ],
   "source": [
    "linear_regression(X, test_2, X.columns)"
   ]
  },
  {
   "cell_type": "code",
   "execution_count": 297,
   "metadata": {},
   "outputs": [
    {
     "name": "stdout",
     "output_type": "stream",
     "text": [
      "rating ~ words + Michael_words + Andy_words + Ryan_words + Jim_words + Phyllis_words + dunder + double + Kelly_words + crying + Dwight_words + Stanley_words + Roy_words + number_of_dialog + dialog_mean_length + Erin_words + love + scranton + Jim_about_Pam + stupid + laughing + money + death + whispering + Jim_Pam_dialog + Jim_about_Dwight + Angela_words + office + Toby_words + Meredith_words + Nellie_words + Jim_Michael_dialog + Pam_words + sigh + Pam_about_Michael + sales + Dwight_Michael_dialog + Kevin_words + paper + Michael_Ryan_dialog + Michael_Pam_dialog + wedding + Andy_Erin_dialog + Creed_words + date + Oscar_words + leaving + christmas + meeting + hate \n",
      "\n",
      "                            OLS Regression Results                            \n",
      "==============================================================================\n",
      "Dep. Variable:                 rating   R-squared:                       0.660\n",
      "Model:                            OLS   Adj. R-squared:                  0.445\n",
      "Method:                 Least Squares   F-statistic:                     3.073\n",
      "Date:                Wed, 02 Feb 2022   Prob (F-statistic):           3.97e-06\n",
      "Time:                        18:54:28   Log-Likelihood:                -53.190\n",
      "No. Observations:                 130   AIC:                             208.4\n",
      "Df Residuals:                      79   BIC:                             354.6\n",
      "Df Model:                          50                                         \n",
      "Covariance Type:            nonrobust                                         \n",
      "=========================================================================================\n",
      "                            coef    std err          t      P>|t|      [0.025      0.975]\n",
      "-----------------------------------------------------------------------------------------\n",
      "Intercept                 7.1777      0.781      9.195      0.000       5.624       8.731\n",
      "words                     0.0001      0.000      0.620      0.537      -0.000       0.000\n",
      "Michael_words             0.0029      0.008      0.360      0.720      -0.013       0.019\n",
      "Andy_words               -0.0111      0.012     -0.925      0.358      -0.035       0.013\n",
      "Ryan_words                0.0111      0.024      0.468      0.641      -0.036       0.058\n",
      "Jim_words                 0.0097      0.013      0.761      0.449      -0.016       0.035\n",
      "Phyllis_words             0.0387      0.038      1.012      0.315      -0.037       0.115\n",
      "dunder                    1.3953      0.781      1.786      0.078      -0.160       2.950\n",
      "double                    0.2033      0.443      0.459      0.647      -0.678       1.084\n",
      "Kelly_words               0.0081      0.027      0.297      0.767      -0.046       0.062\n",
      "crying                    0.1347      0.045      2.963      0.004       0.044       0.225\n",
      "Dwight_words             -0.0054      0.011     -0.479      0.633      -0.028       0.017\n",
      "Stanley_words             0.0741      0.044      1.671      0.099      -0.014       0.162\n",
      "Roy_words                 0.0609      0.054      1.128      0.263      -0.047       0.168\n",
      "number_of_dialog          0.0008      0.004      0.188      0.852      -0.008       0.009\n",
      "dialog_mean_length       -0.0247      0.107     -0.231      0.818      -0.238       0.189\n",
      "Erin_words                0.0272      0.026      1.061      0.292      -0.024       0.078\n",
      "love                      1.1745      0.517      2.270      0.026       0.145       2.204\n",
      "scranton                 -0.8474      0.571     -1.485      0.142      -1.983       0.288\n",
      "Jim_about_Pam             0.1797      0.129      1.390      0.168      -0.078       0.437\n",
      "stupid                    0.6395      1.301      0.491      0.624      -1.950       3.229\n",
      "laughing                 -0.0183      0.016     -1.135      0.260      -0.051       0.014\n",
      "money                     1.9608      0.856      2.290      0.025       0.256       3.665\n",
      "death                     3.8268      3.409      1.122      0.265      -2.959      10.613\n",
      "whispering                0.0414      0.038      1.086      0.281      -0.034       0.117\n",
      "Jim_Pam_dialog           -0.0082      0.004     -1.908      0.060      -0.017       0.000\n",
      "Jim_about_Dwight          0.2539      0.096      2.639      0.010       0.062       0.445\n",
      "Angela_words             -0.0042      0.025     -0.166      0.868      -0.054       0.046\n",
      "office                   -0.2605      0.595     -0.438      0.663      -1.446       0.925\n",
      "Toby_words                0.0108      0.025      0.437      0.663      -0.039       0.060\n",
      "Meredith_words           -0.0045      0.057     -0.078      0.938      -0.119       0.110\n",
      "Nellie_words             -0.0675      0.017     -3.946      0.000      -0.101      -0.033\n",
      "Jim_Michael_dialog        0.0004      0.006      0.071      0.944      -0.012       0.013\n",
      "Pam_words                -0.0069      0.015     -0.453      0.652      -0.037       0.023\n",
      "sigh                     -0.0312      0.044     -0.716      0.476      -0.118       0.055\n",
      "Pam_about_Michael         0.0751      0.066      1.138      0.258      -0.056       0.206\n",
      "sales                     0.1985      1.052      0.189      0.851      -1.895       2.292\n",
      "Dwight_Michael_dialog     0.0035      0.003      1.078      0.284      -0.003       0.010\n",
      "Kevin_words               0.0043      0.029      0.146      0.885      -0.054       0.063\n",
      "paper                     0.0084      0.488      0.017      0.986      -0.962       0.979\n",
      "Michael_Ryan_dialog      -0.0013      0.011     -0.115      0.908      -0.024       0.021\n",
      "Michael_Pam_dialog        0.0062      0.006      0.963      0.339      -0.007       0.019\n",
      "wedding                   0.8858      0.984      0.901      0.371      -1.072       2.844\n",
      "Andy_Erin_dialog         -0.0135      0.011     -1.231      0.222      -0.035       0.008\n",
      "Creed_words               0.0002      0.068      0.002      0.998      -0.136       0.136\n",
      "date                      0.5604      1.294      0.433      0.666      -2.015       3.136\n",
      "Oscar_words               0.0058      0.026      0.226      0.822      -0.045       0.057\n",
      "leaving                   3.0168      1.818      1.660      0.101      -0.601       6.635\n",
      "christmas                 0.1984      0.393      0.504      0.615      -0.585       0.982\n",
      "meeting                  -0.2911      0.896     -0.325      0.746      -2.074       1.491\n",
      "hate                      0.7037      1.226      0.574      0.568      -1.737       3.145\n",
      "==============================================================================\n",
      "Omnibus:                        0.282   Durbin-Watson:                   2.046\n",
      "Prob(Omnibus):                  0.869   Jarque-Bera (JB):                0.310\n",
      "Skew:                          -0.109   Prob(JB):                        0.856\n",
      "Kurtosis:                       2.900   Cond. No.                     2.63e+05\n",
      "==============================================================================\n",
      "\n",
      "Notes:\n",
      "[1] Standard Errors assume that the covariance matrix of the errors is correctly specified.\n",
      "[2] The condition number is large, 2.63e+05. This might indicate that there are\n",
      "strong multicollinearity or other numerical problems.\n"
     ]
    },
    {
     "data": {
      "image/png": "[encoded data removed]",
      "text/plain": [
       "<Figure size 1296x288 with 3 Axes>"
      ]
     },
     "metadata": {
      "needs_background": "light"
     },
     "output_type": "display_data"
    }
   ],
   "source": [
    "features_tree = importance[:50].Variable.values\n",
    "res = linear_regression(train, test, features_tree)"
   ]
  },
  {
   "cell_type": "code",
   "execution_count": 298,
   "metadata": {},
   "outputs": [
    {
     "name": "stdout",
     "output_type": "stream",
     "text": [
      "rating ~ words + Michael_words + Andy_words + Ryan_words + Jim_words + Phyllis_words + dunder + double + Kelly_words + crying + Dwight_words + Stanley_words + Roy_words + number_of_dialog + dialog_mean_length + Erin_words + love + scranton + Jim_about_Pam + stupid \n",
      "\n",
      "                            OLS Regression Results                            \n",
      "==============================================================================\n",
      "Dep. Variable:                 rating   R-squared:                       0.478\n",
      "Model:                            OLS   Adj. R-squared:                  0.382\n",
      "Method:                 Least Squares   F-statistic:                     4.989\n",
      "Date:                Wed, 02 Feb 2022   Prob (F-statistic):           1.66e-08\n",
      "Time:                        18:55:08   Log-Likelihood:                -81.145\n",
      "No. Observations:                 130   AIC:                             204.3\n",
      "Df Residuals:                     109   BIC:                             264.5\n",
      "Df Model:                          20                                         \n",
      "Covariance Type:            nonrobust                                         \n",
      "======================================================================================\n",
      "                         coef    std err          t      P>|t|      [0.025      0.975]\n",
      "--------------------------------------------------------------------------------------\n",
      "Intercept              6.8561      0.607     11.300      0.000       5.654       8.059\n",
      "words                  0.0001      0.000      0.819      0.415      -0.000       0.000\n",
      "Michael_words          0.0125      0.006      2.231      0.028       0.001       0.024\n",
      "Andy_words            -0.0066      0.009     -0.711      0.479      -0.025       0.012\n",
      "Ryan_words         -7.832e-05      0.016     -0.005      0.996      -0.033       0.032\n",
      "Jim_words              0.0165      0.011      1.503      0.136      -0.005       0.038\n",
      "Phyllis_words          0.0378      0.030      1.242      0.217      -0.023       0.098\n",
      "dunder                 0.8499      0.656      1.295      0.198      -0.451       2.151\n",
      "double                 0.3049      0.396      0.770      0.443      -0.480       1.089\n",
      "Kelly_words            0.0283      0.026      1.106      0.271      -0.022       0.079\n",
      "crying                 0.1068      0.040      2.688      0.008       0.028       0.185\n",
      "Dwight_words           0.0042      0.009      0.466      0.642      -0.014       0.022\n",
      "Stanley_words          0.0241      0.041      0.590      0.556      -0.057       0.105\n",
      "Roy_words              0.0545      0.048      1.132      0.260      -0.041       0.150\n",
      "number_of_dialog       0.0036      0.003      1.056      0.293      -0.003       0.010\n",
      "dialog_mean_length    -0.0090      0.079     -0.114      0.909      -0.166       0.148\n",
      "Erin_words            -0.0215      0.019     -1.154      0.251      -0.059       0.015\n",
      "love                   0.5435      0.437      1.243      0.216      -0.323       1.410\n",
      "scranton              -0.4737      0.512     -0.926      0.357      -1.488       0.540\n",
      "Jim_about_Pam         -0.0401      0.116     -0.347      0.729      -0.269       0.189\n",
      "stupid                 0.4786      1.150      0.416      0.678      -1.801       2.758\n",
      "==============================================================================\n",
      "Omnibus:                        0.195   Durbin-Watson:                   1.979\n",
      "Prob(Omnibus):                  0.907   Jarque-Bera (JB):                0.032\n",
      "Skew:                          -0.028   Prob(JB):                        0.984\n",
      "Kurtosis:                       3.054   Cond. No.                     8.34e+04\n",
      "==============================================================================\n",
      "\n",
      "Notes:\n",
      "[1] Standard Errors assume that the covariance matrix of the errors is correctly specified.\n",
      "[2] The condition number is large, 8.34e+04. This might indicate that there are\n",
      "strong multicollinearity or other numerical problems.\n"
     ]
    },
    {
     "data": {
      "image/png": "[encoded data removed]",
      "text/plain": [
       "<Figure size 1296x288 with 3 Axes>"
      ]
     },
     "metadata": {
      "needs_background": "light"
     },
     "output_type": "display_data"
    }
   ],
   "source": [
    "features_tree = importance[:20].Variable.values\n",
    "res = linear_regression(train,test, features_tree)"
   ]
  },
  {
   "cell_type": "markdown",
   "metadata": {},
   "source": [
    "# Lasso"
   ]
  },
  {
   "cell_type": "code",
   "execution_count": 333,
   "metadata": {},
   "outputs": [],
   "source": [
    "from sklearn.linear_model import LassoCV\n",
    "from sklearn.pipeline import make_pipeline\n",
    "from sklearn.preprocessing import StandardScaler\n",
    "\n",
    "from sklearn.metrics import mean_squared_error"
   ]
  },
  {
   "cell_type": "markdown",
   "metadata": {},
   "source": [
    "## Scaling"
   ]
  },
  {
   "cell_type": "code",
   "execution_count": 661,
   "metadata": {},
   "outputs": [],
   "source": [
    "def Michael_words_in_the_end(df):\n",
    "    mv = df.Michael_words\n",
    "    df.drop(columns='Michael_words', axis=1,inplace=True)\n",
    "    df['Michael_words'] = mv\n",
    "    \n",
    "    df.drop(columns='Nellie_words', axis=1,inplace=True)\n",
    "    return df"
   ]
  },
  {
   "cell_type": "code",
   "execution_count": 662,
   "metadata": {},
   "outputs": [],
   "source": [
    "x_train = Michael_words_in_the_end(x_train)\n",
    "x_test = Michael_words_in_the_end(x_test)"
   ]
  },
  {
   "cell_type": "code",
   "execution_count": 663,
   "metadata": {},
   "outputs": [
    {
     "data": {
      "text/plain": [
       "StandardScaler()"
      ]
     },
     "execution_count": 663,
     "metadata": {},
     "output_type": "execute_result"
    }
   ],
   "source": [
    "x_scaler = StandardScaler()\n",
    "y_scaler = StandardScaler()\n",
    "\n",
    "x_scaler.fit(x_train)\n",
    "y_scaler.fit(y_train.values.reshape(-1,1))"
   ]
  },
  {
   "cell_type": "code",
   "execution_count": 664,
   "metadata": {},
   "outputs": [
    {
     "data": {
      "text/plain": [
       "Index(['double', 'writer_B_J__Novak', 'writer_Mindy_Kaling',\n",
       "       'writer_Gene_Stupnitsky', 'writer_Justin_Spitzer',\n",
       "       'writer_Brent_Forrester', 'writer_Jennifer_Celotta',\n",
       "       'writer_Michael_Schur', 'writer_Warren_Lieberstein',\n",
       "       'writer_Halsted_Sullivan',\n",
       "       ...\n",
       "       'whispering', 'screaming', 'singing', 'applause', 'accent', 'crying',\n",
       "       'smiling', 'sigh', 'kiss', 'Michael_words'],\n",
       "      dtype='object', length=304)"
      ]
     },
     "execution_count": 664,
     "metadata": {},
     "output_type": "execute_result"
    }
   ],
   "source": [
    "x_train.columns"
   ]
  },
  {
   "cell_type": "code",
   "execution_count": 665,
   "metadata": {},
   "outputs": [],
   "source": [
    "x_train_scaled = pd.DataFrame(x_scaler.transform(x_train), columns = x_train.columns)\n",
    "y_train_scaled = np.ravel(y_scaler.transform(y_train.values.reshape(-1,1)))\n",
    "\n",
    "x_test_scaled = pd.DataFrame(x_scaler.transform(x_test), columns = x_test.columns)\n",
    "y_test_scaled = np.ravel(y_scaler.transform(y_test.values.reshape(-1,1)))"
   ]
  },
  {
   "cell_type": "code",
   "execution_count": 666,
   "metadata": {},
   "outputs": [
    {
     "data": {
      "text/html": [
       "<div>\n",
       "<style scoped>\n",
       "    .dataframe tbody tr th:only-of-type {\n",
       "        vertical-align: middle;\n",
       "    }\n",
       "\n",
       "    .dataframe tbody tr th {\n",
       "        vertical-align: top;\n",
       "    }\n",
       "\n",
       "    .dataframe thead th {\n",
       "        text-align: right;\n",
       "    }\n",
       "</style>\n",
       "<table border=\"1\" class=\"dataframe\">\n",
       "  <thead>\n",
       "    <tr style=\"text-align: right;\">\n",
       "      <th></th>\n",
       "      <th>double</th>\n",
       "      <th>writer_B_J__Novak</th>\n",
       "      <th>writer_Mindy_Kaling</th>\n",
       "      <th>writer_Gene_Stupnitsky</th>\n",
       "      <th>writer_Justin_Spitzer</th>\n",
       "      <th>writer_Brent_Forrester</th>\n",
       "      <th>writer_Jennifer_Celotta</th>\n",
       "      <th>writer_Michael_Schur</th>\n",
       "      <th>writer_Warren_Lieberstein</th>\n",
       "      <th>writer_Halsted_Sullivan</th>\n",
       "      <th>...</th>\n",
       "      <th>whispering</th>\n",
       "      <th>screaming</th>\n",
       "      <th>singing</th>\n",
       "      <th>applause</th>\n",
       "      <th>accent</th>\n",
       "      <th>crying</th>\n",
       "      <th>smiling</th>\n",
       "      <th>sigh</th>\n",
       "      <th>kiss</th>\n",
       "      <th>Michael_words</th>\n",
       "    </tr>\n",
       "  </thead>\n",
       "  <tbody>\n",
       "    <tr>\n",
       "      <th>count</th>\n",
       "      <td>130.000000</td>\n",
       "      <td>130.000000</td>\n",
       "      <td>130.000000</td>\n",
       "      <td>130.000000</td>\n",
       "      <td>130.000000</td>\n",
       "      <td>130.000000</td>\n",
       "      <td>130.000000</td>\n",
       "      <td>130.000000</td>\n",
       "      <td>130.000000</td>\n",
       "      <td>130.000000</td>\n",
       "      <td>...</td>\n",
       "      <td>130.000000</td>\n",
       "      <td>130.000000</td>\n",
       "      <td>130.000000</td>\n",
       "      <td>130.000000</td>\n",
       "      <td>130.000000</td>\n",
       "      <td>130.000000</td>\n",
       "      <td>130.000000</td>\n",
       "      <td>130.000000</td>\n",
       "      <td>130.000000</td>\n",
       "      <td>130.000000</td>\n",
       "    </tr>\n",
       "    <tr>\n",
       "      <th>mean</th>\n",
       "      <td>0.084615</td>\n",
       "      <td>0.092308</td>\n",
       "      <td>0.084615</td>\n",
       "      <td>0.046154</td>\n",
       "      <td>0.069231</td>\n",
       "      <td>0.061538</td>\n",
       "      <td>0.053846</td>\n",
       "      <td>0.061538</td>\n",
       "      <td>0.046154</td>\n",
       "      <td>0.046154</td>\n",
       "      <td>...</td>\n",
       "      <td>1.261538</td>\n",
       "      <td>0.353846</td>\n",
       "      <td>1.723077</td>\n",
       "      <td>0.853846</td>\n",
       "      <td>0.392308</td>\n",
       "      <td>0.700000</td>\n",
       "      <td>0.630769</td>\n",
       "      <td>0.892308</td>\n",
       "      <td>0.707692</td>\n",
       "      <td>25.439255</td>\n",
       "    </tr>\n",
       "    <tr>\n",
       "      <th>std</th>\n",
       "      <td>0.279385</td>\n",
       "      <td>0.290580</td>\n",
       "      <td>0.279385</td>\n",
       "      <td>0.210630</td>\n",
       "      <td>0.254828</td>\n",
       "      <td>0.241245</td>\n",
       "      <td>0.226587</td>\n",
       "      <td>0.241245</td>\n",
       "      <td>0.210630</td>\n",
       "      <td>0.210630</td>\n",
       "      <td>...</td>\n",
       "      <td>1.705231</td>\n",
       "      <td>0.702835</td>\n",
       "      <td>2.131402</td>\n",
       "      <td>1.294661</td>\n",
       "      <td>1.557658</td>\n",
       "      <td>1.224112</td>\n",
       "      <td>1.694215</td>\n",
       "      <td>1.387911</td>\n",
       "      <td>1.171007</td>\n",
       "      <td>17.637445</td>\n",
       "    </tr>\n",
       "    <tr>\n",
       "      <th>min</th>\n",
       "      <td>0.000000</td>\n",
       "      <td>0.000000</td>\n",
       "      <td>0.000000</td>\n",
       "      <td>0.000000</td>\n",
       "      <td>0.000000</td>\n",
       "      <td>0.000000</td>\n",
       "      <td>0.000000</td>\n",
       "      <td>0.000000</td>\n",
       "      <td>0.000000</td>\n",
       "      <td>0.000000</td>\n",
       "      <td>...</td>\n",
       "      <td>0.000000</td>\n",
       "      <td>0.000000</td>\n",
       "      <td>0.000000</td>\n",
       "      <td>0.000000</td>\n",
       "      <td>0.000000</td>\n",
       "      <td>0.000000</td>\n",
       "      <td>0.000000</td>\n",
       "      <td>0.000000</td>\n",
       "      <td>0.000000</td>\n",
       "      <td>0.000000</td>\n",
       "    </tr>\n",
       "    <tr>\n",
       "      <th>25%</th>\n",
       "      <td>0.000000</td>\n",
       "      <td>0.000000</td>\n",
       "      <td>0.000000</td>\n",
       "      <td>0.000000</td>\n",
       "      <td>0.000000</td>\n",
       "      <td>0.000000</td>\n",
       "      <td>0.000000</td>\n",
       "      <td>0.000000</td>\n",
       "      <td>0.000000</td>\n",
       "      <td>0.000000</td>\n",
       "      <td>...</td>\n",
       "      <td>0.000000</td>\n",
       "      <td>0.000000</td>\n",
       "      <td>0.000000</td>\n",
       "      <td>0.000000</td>\n",
       "      <td>0.000000</td>\n",
       "      <td>0.000000</td>\n",
       "      <td>0.000000</td>\n",
       "      <td>0.000000</td>\n",
       "      <td>0.000000</td>\n",
       "      <td>0.000000</td>\n",
       "    </tr>\n",
       "    <tr>\n",
       "      <th>50%</th>\n",
       "      <td>0.000000</td>\n",
       "      <td>0.000000</td>\n",
       "      <td>0.000000</td>\n",
       "      <td>0.000000</td>\n",
       "      <td>0.000000</td>\n",
       "      <td>0.000000</td>\n",
       "      <td>0.000000</td>\n",
       "      <td>0.000000</td>\n",
       "      <td>0.000000</td>\n",
       "      <td>0.000000</td>\n",
       "      <td>...</td>\n",
       "      <td>1.000000</td>\n",
       "      <td>0.000000</td>\n",
       "      <td>1.000000</td>\n",
       "      <td>0.000000</td>\n",
       "      <td>0.000000</td>\n",
       "      <td>0.000000</td>\n",
       "      <td>0.000000</td>\n",
       "      <td>0.000000</td>\n",
       "      <td>0.000000</td>\n",
       "      <td>31.290873</td>\n",
       "    </tr>\n",
       "    <tr>\n",
       "      <th>75%</th>\n",
       "      <td>0.000000</td>\n",
       "      <td>0.000000</td>\n",
       "      <td>0.000000</td>\n",
       "      <td>0.000000</td>\n",
       "      <td>0.000000</td>\n",
       "      <td>0.000000</td>\n",
       "      <td>0.000000</td>\n",
       "      <td>0.000000</td>\n",
       "      <td>0.000000</td>\n",
       "      <td>0.000000</td>\n",
       "      <td>...</td>\n",
       "      <td>2.000000</td>\n",
       "      <td>1.000000</td>\n",
       "      <td>2.000000</td>\n",
       "      <td>1.000000</td>\n",
       "      <td>0.000000</td>\n",
       "      <td>1.000000</td>\n",
       "      <td>1.000000</td>\n",
       "      <td>1.000000</td>\n",
       "      <td>1.000000</td>\n",
       "      <td>39.153918</td>\n",
       "    </tr>\n",
       "    <tr>\n",
       "      <th>max</th>\n",
       "      <td>1.000000</td>\n",
       "      <td>1.000000</td>\n",
       "      <td>1.000000</td>\n",
       "      <td>1.000000</td>\n",
       "      <td>1.000000</td>\n",
       "      <td>1.000000</td>\n",
       "      <td>1.000000</td>\n",
       "      <td>1.000000</td>\n",
       "      <td>1.000000</td>\n",
       "      <td>1.000000</td>\n",
       "      <td>...</td>\n",
       "      <td>8.000000</td>\n",
       "      <td>4.000000</td>\n",
       "      <td>14.000000</td>\n",
       "      <td>7.000000</td>\n",
       "      <td>16.000000</td>\n",
       "      <td>6.000000</td>\n",
       "      <td>15.000000</td>\n",
       "      <td>7.000000</td>\n",
       "      <td>6.000000</td>\n",
       "      <td>55.563584</td>\n",
       "    </tr>\n",
       "  </tbody>\n",
       "</table>\n",
       "<p>8 rows × 304 columns</p>\n",
       "</div>"
      ],
      "text/plain": [
       "           double  writer_B_J__Novak  writer_Mindy_Kaling  \\\n",
       "count  130.000000         130.000000           130.000000   \n",
       "mean     0.084615           0.092308             0.084615   \n",
       "std      0.279385           0.290580             0.279385   \n",
       "min      0.000000           0.000000             0.000000   \n",
       "25%      0.000000           0.000000             0.000000   \n",
       "50%      0.000000           0.000000             0.000000   \n",
       "75%      0.000000           0.000000             0.000000   \n",
       "max      1.000000           1.000000             1.000000   \n",
       "\n",
       "       writer_Gene_Stupnitsky  writer_Justin_Spitzer  writer_Brent_Forrester  \\\n",
       "count              130.000000             130.000000              130.000000   \n",
       "mean                 0.046154               0.069231                0.061538   \n",
       "std                  0.210630               0.254828                0.241245   \n",
       "min                  0.000000               0.000000                0.000000   \n",
       "25%                  0.000000               0.000000                0.000000   \n",
       "50%                  0.000000               0.000000                0.000000   \n",
       "75%                  0.000000               0.000000                0.000000   \n",
       "max                  1.000000               1.000000                1.000000   \n",
       "\n",
       "       writer_Jennifer_Celotta  writer_Michael_Schur  \\\n",
       "count               130.000000            130.000000   \n",
       "mean                  0.053846              0.061538   \n",
       "std                   0.226587              0.241245   \n",
       "min                   0.000000              0.000000   \n",
       "25%                   0.000000              0.000000   \n",
       "50%                   0.000000              0.000000   \n",
       "75%                   0.000000              0.000000   \n",
       "max                   1.000000              1.000000   \n",
       "\n",
       "       writer_Warren_Lieberstein  writer_Halsted_Sullivan  ...  whispering  \\\n",
       "count                 130.000000               130.000000  ...  130.000000   \n",
       "mean                    0.046154                 0.046154  ...    1.261538   \n",
       "std                     0.210630                 0.210630  ...    1.705231   \n",
       "min                     0.000000                 0.000000  ...    0.000000   \n",
       "25%                     0.000000                 0.000000  ...    0.000000   \n",
       "50%                     0.000000                 0.000000  ...    1.000000   \n",
       "75%                     0.000000                 0.000000  ...    2.000000   \n",
       "max                     1.000000                 1.000000  ...    8.000000   \n",
       "\n",
       "        screaming     singing    applause      accent      crying     smiling  \\\n",
       "count  130.000000  130.000000  130.000000  130.000000  130.000000  130.000000   \n",
       "mean     0.353846    1.723077    0.853846    0.392308    0.700000    0.630769   \n",
       "std      0.702835    2.131402    1.294661    1.557658    1.224112    1.694215   \n",
       "min      0.000000    0.000000    0.000000    0.000000    0.000000    0.000000   \n",
       "25%      0.000000    0.000000    0.000000    0.000000    0.000000    0.000000   \n",
       "50%      0.000000    1.000000    0.000000    0.000000    0.000000    0.000000   \n",
       "75%      1.000000    2.000000    1.000000    0.000000    1.000000    1.000000   \n",
       "max      4.000000   14.000000    7.000000   16.000000    6.000000   15.000000   \n",
       "\n",
       "             sigh        kiss  Michael_words  \n",
       "count  130.000000  130.000000     130.000000  \n",
       "mean     0.892308    0.707692      25.439255  \n",
       "std      1.387911    1.171007      17.637445  \n",
       "min      0.000000    0.000000       0.000000  \n",
       "25%      0.000000    0.000000       0.000000  \n",
       "50%      0.000000    0.000000      31.290873  \n",
       "75%      1.000000    1.000000      39.153918  \n",
       "max      7.000000    6.000000      55.563584  \n",
       "\n",
       "[8 rows x 304 columns]"
      ]
     },
     "execution_count": 666,
     "metadata": {},
     "output_type": "execute_result"
    }
   ],
   "source": [
    "x_train.describe()"
   ]
  },
  {
   "cell_type": "code",
   "execution_count": 647,
   "metadata": {},
   "outputs": [
    {
     "data": {
      "text/html": [
       "<div>\n",
       "<style scoped>\n",
       "    .dataframe tbody tr th:only-of-type {\n",
       "        vertical-align: middle;\n",
       "    }\n",
       "\n",
       "    .dataframe tbody tr th {\n",
       "        vertical-align: top;\n",
       "    }\n",
       "\n",
       "    .dataframe thead th {\n",
       "        text-align: right;\n",
       "    }\n",
       "</style>\n",
       "<table border=\"1\" class=\"dataframe\">\n",
       "  <thead>\n",
       "    <tr style=\"text-align: right;\">\n",
       "      <th></th>\n",
       "      <th>double</th>\n",
       "      <th>writer_B_J__Novak</th>\n",
       "      <th>writer_Mindy_Kaling</th>\n",
       "      <th>writer_Gene_Stupnitsky</th>\n",
       "      <th>writer_Justin_Spitzer</th>\n",
       "      <th>writer_Brent_Forrester</th>\n",
       "      <th>writer_Jennifer_Celotta</th>\n",
       "      <th>writer_Michael_Schur</th>\n",
       "      <th>writer_Warren_Lieberstein</th>\n",
       "      <th>writer_Halsted_Sullivan</th>\n",
       "      <th>...</th>\n",
       "      <th>whispering</th>\n",
       "      <th>screaming</th>\n",
       "      <th>singing</th>\n",
       "      <th>applause</th>\n",
       "      <th>accent</th>\n",
       "      <th>crying</th>\n",
       "      <th>smiling</th>\n",
       "      <th>sigh</th>\n",
       "      <th>kiss</th>\n",
       "      <th>Michael_words</th>\n",
       "    </tr>\n",
       "  </thead>\n",
       "  <tbody>\n",
       "    <tr>\n",
       "      <th>count</th>\n",
       "      <td>1.300000e+02</td>\n",
       "      <td>1.300000e+02</td>\n",
       "      <td>1.300000e+02</td>\n",
       "      <td>1.300000e+02</td>\n",
       "      <td>1.300000e+02</td>\n",
       "      <td>1.300000e+02</td>\n",
       "      <td>1.300000e+02</td>\n",
       "      <td>1.300000e+02</td>\n",
       "      <td>1.300000e+02</td>\n",
       "      <td>1.300000e+02</td>\n",
       "      <td>...</td>\n",
       "      <td>1.300000e+02</td>\n",
       "      <td>1.300000e+02</td>\n",
       "      <td>1.300000e+02</td>\n",
       "      <td>1.300000e+02</td>\n",
       "      <td>1.300000e+02</td>\n",
       "      <td>1.300000e+02</td>\n",
       "      <td>1.300000e+02</td>\n",
       "      <td>1.300000e+02</td>\n",
       "      <td>1.300000e+02</td>\n",
       "      <td>1.300000e+02</td>\n",
       "    </tr>\n",
       "    <tr>\n",
       "      <th>mean</th>\n",
       "      <td>-1.024821e-16</td>\n",
       "      <td>-8.540177e-17</td>\n",
       "      <td>-8.710981e-17</td>\n",
       "      <td>-1.054712e-16</td>\n",
       "      <td>7.686159e-18</td>\n",
       "      <td>6.832142e-18</td>\n",
       "      <td>1.366428e-17</td>\n",
       "      <td>-5.124106e-17</td>\n",
       "      <td>-1.327998e-16</td>\n",
       "      <td>-1.327998e-16</td>\n",
       "      <td>...</td>\n",
       "      <td>8.881784e-17</td>\n",
       "      <td>-2.135044e-17</td>\n",
       "      <td>-5.465713e-17</td>\n",
       "      <td>-1.451830e-17</td>\n",
       "      <td>-1.058982e-16</td>\n",
       "      <td>-1.878839e-17</td>\n",
       "      <td>4.419542e-17</td>\n",
       "      <td>-2.732857e-17</td>\n",
       "      <td>-2.391250e-17</td>\n",
       "      <td>3.947697e-16</td>\n",
       "    </tr>\n",
       "    <tr>\n",
       "      <th>std</th>\n",
       "      <td>1.003868e+00</td>\n",
       "      <td>1.003868e+00</td>\n",
       "      <td>1.003868e+00</td>\n",
       "      <td>1.003868e+00</td>\n",
       "      <td>1.003868e+00</td>\n",
       "      <td>1.003868e+00</td>\n",
       "      <td>1.003868e+00</td>\n",
       "      <td>1.003868e+00</td>\n",
       "      <td>1.003868e+00</td>\n",
       "      <td>1.003868e+00</td>\n",
       "      <td>...</td>\n",
       "      <td>1.003868e+00</td>\n",
       "      <td>1.003868e+00</td>\n",
       "      <td>1.003868e+00</td>\n",
       "      <td>1.003868e+00</td>\n",
       "      <td>1.003868e+00</td>\n",
       "      <td>1.003868e+00</td>\n",
       "      <td>1.003868e+00</td>\n",
       "      <td>1.003868e+00</td>\n",
       "      <td>1.003868e+00</td>\n",
       "      <td>1.003868e+00</td>\n",
       "    </tr>\n",
       "    <tr>\n",
       "      <th>min</th>\n",
       "      <td>-3.040345e-01</td>\n",
       "      <td>-3.188964e-01</td>\n",
       "      <td>-3.040345e-01</td>\n",
       "      <td>-2.199707e-01</td>\n",
       "      <td>-2.727273e-01</td>\n",
       "      <td>-2.560738e-01</td>\n",
       "      <td>-2.385594e-01</td>\n",
       "      <td>-2.560738e-01</td>\n",
       "      <td>-2.199707e-01</td>\n",
       "      <td>-2.199707e-01</td>\n",
       "      <td>...</td>\n",
       "      <td>-7.426671e-01</td>\n",
       "      <td>-5.054030e-01</td>\n",
       "      <td>-8.115516e-01</td>\n",
       "      <td>-6.620645e-01</td>\n",
       "      <td>-2.528318e-01</td>\n",
       "      <td>-5.740554e-01</td>\n",
       "      <td>-3.737480e-01</td>\n",
       "      <td>-6.454013e-01</td>\n",
       "      <td>-6.066828e-01</td>\n",
       "      <td>-1.447923e+00</td>\n",
       "    </tr>\n",
       "    <tr>\n",
       "      <th>25%</th>\n",
       "      <td>-3.040345e-01</td>\n",
       "      <td>-3.188964e-01</td>\n",
       "      <td>-3.040345e-01</td>\n",
       "      <td>-2.199707e-01</td>\n",
       "      <td>-2.727273e-01</td>\n",
       "      <td>-2.560738e-01</td>\n",
       "      <td>-2.385594e-01</td>\n",
       "      <td>-2.560738e-01</td>\n",
       "      <td>-2.199707e-01</td>\n",
       "      <td>-2.199707e-01</td>\n",
       "      <td>...</td>\n",
       "      <td>-7.426671e-01</td>\n",
       "      <td>-5.054030e-01</td>\n",
       "      <td>-8.115516e-01</td>\n",
       "      <td>-6.620645e-01</td>\n",
       "      <td>-2.528318e-01</td>\n",
       "      <td>-5.740554e-01</td>\n",
       "      <td>-3.737480e-01</td>\n",
       "      <td>-6.454013e-01</td>\n",
       "      <td>-6.066828e-01</td>\n",
       "      <td>-1.447923e+00</td>\n",
       "    </tr>\n",
       "    <tr>\n",
       "      <th>50%</th>\n",
       "      <td>-3.040345e-01</td>\n",
       "      <td>-3.188964e-01</td>\n",
       "      <td>-3.040345e-01</td>\n",
       "      <td>-2.199707e-01</td>\n",
       "      <td>-2.727273e-01</td>\n",
       "      <td>-2.560738e-01</td>\n",
       "      <td>-2.385594e-01</td>\n",
       "      <td>-2.560738e-01</td>\n",
       "      <td>-2.199707e-01</td>\n",
       "      <td>-2.199707e-01</td>\n",
       "      <td>...</td>\n",
       "      <td>-1.539676e-01</td>\n",
       "      <td>-5.054030e-01</td>\n",
       "      <td>-3.405618e-01</td>\n",
       "      <td>-6.620645e-01</td>\n",
       "      <td>-2.528318e-01</td>\n",
       "      <td>-5.740554e-01</td>\n",
       "      <td>-3.737480e-01</td>\n",
       "      <td>-6.454013e-01</td>\n",
       "      <td>-6.066828e-01</td>\n",
       "      <td>3.330559e-01</td>\n",
       "    </tr>\n",
       "    <tr>\n",
       "      <th>75%</th>\n",
       "      <td>-3.040345e-01</td>\n",
       "      <td>-3.188964e-01</td>\n",
       "      <td>-3.040345e-01</td>\n",
       "      <td>-2.199707e-01</td>\n",
       "      <td>-2.727273e-01</td>\n",
       "      <td>-2.560738e-01</td>\n",
       "      <td>-2.385594e-01</td>\n",
       "      <td>-2.560738e-01</td>\n",
       "      <td>-2.199707e-01</td>\n",
       "      <td>-2.199707e-01</td>\n",
       "      <td>...</td>\n",
       "      <td>4.347320e-01</td>\n",
       "      <td>9.229098e-01</td>\n",
       "      <td>1.304279e-01</td>\n",
       "      <td>1.133264e-01</td>\n",
       "      <td>-2.528318e-01</td>\n",
       "      <td>2.460237e-01</td>\n",
       "      <td>2.187793e-01</td>\n",
       "      <td>7.789326e-02</td>\n",
       "      <td>2.505864e-01</td>\n",
       "      <td>7.805960e-01</td>\n",
       "    </tr>\n",
       "    <tr>\n",
       "      <th>max</th>\n",
       "      <td>3.289100e+00</td>\n",
       "      <td>3.135815e+00</td>\n",
       "      <td>3.289100e+00</td>\n",
       "      <td>4.546061e+00</td>\n",
       "      <td>3.666667e+00</td>\n",
       "      <td>3.905125e+00</td>\n",
       "      <td>4.191829e+00</td>\n",
       "      <td>3.905125e+00</td>\n",
       "      <td>4.546061e+00</td>\n",
       "      <td>4.546061e+00</td>\n",
       "      <td>...</td>\n",
       "      <td>3.966929e+00</td>\n",
       "      <td>5.207848e+00</td>\n",
       "      <td>5.782305e+00</td>\n",
       "      <td>4.765671e+00</td>\n",
       "      <td>1.005874e+01</td>\n",
       "      <td>4.346419e+00</td>\n",
       "      <td>8.514161e+00</td>\n",
       "      <td>4.417661e+00</td>\n",
       "      <td>4.536932e+00</td>\n",
       "      <td>1.714583e+00</td>\n",
       "    </tr>\n",
       "  </tbody>\n",
       "</table>\n",
       "<p>8 rows × 305 columns</p>\n",
       "</div>"
      ],
      "text/plain": [
       "             double  writer_B_J__Novak  writer_Mindy_Kaling  \\\n",
       "count  1.300000e+02       1.300000e+02         1.300000e+02   \n",
       "mean  -1.024821e-16      -8.540177e-17        -8.710981e-17   \n",
       "std    1.003868e+00       1.003868e+00         1.003868e+00   \n",
       "min   -3.040345e-01      -3.188964e-01        -3.040345e-01   \n",
       "25%   -3.040345e-01      -3.188964e-01        -3.040345e-01   \n",
       "50%   -3.040345e-01      -3.188964e-01        -3.040345e-01   \n",
       "75%   -3.040345e-01      -3.188964e-01        -3.040345e-01   \n",
       "max    3.289100e+00       3.135815e+00         3.289100e+00   \n",
       "\n",
       "       writer_Gene_Stupnitsky  writer_Justin_Spitzer  writer_Brent_Forrester  \\\n",
       "count            1.300000e+02           1.300000e+02            1.300000e+02   \n",
       "mean            -1.054712e-16           7.686159e-18            6.832142e-18   \n",
       "std              1.003868e+00           1.003868e+00            1.003868e+00   \n",
       "min             -2.199707e-01          -2.727273e-01           -2.560738e-01   \n",
       "25%             -2.199707e-01          -2.727273e-01           -2.560738e-01   \n",
       "50%             -2.199707e-01          -2.727273e-01           -2.560738e-01   \n",
       "75%             -2.199707e-01          -2.727273e-01           -2.560738e-01   \n",
       "max              4.546061e+00           3.666667e+00            3.905125e+00   \n",
       "\n",
       "       writer_Jennifer_Celotta  writer_Michael_Schur  \\\n",
       "count             1.300000e+02          1.300000e+02   \n",
       "mean              1.366428e-17         -5.124106e-17   \n",
       "std               1.003868e+00          1.003868e+00   \n",
       "min              -2.385594e-01         -2.560738e-01   \n",
       "25%              -2.385594e-01         -2.560738e-01   \n",
       "50%              -2.385594e-01         -2.560738e-01   \n",
       "75%              -2.385594e-01         -2.560738e-01   \n",
       "max               4.191829e+00          3.905125e+00   \n",
       "\n",
       "       writer_Warren_Lieberstein  writer_Halsted_Sullivan  ...    whispering  \\\n",
       "count               1.300000e+02             1.300000e+02  ...  1.300000e+02   \n",
       "mean               -1.327998e-16            -1.327998e-16  ...  8.881784e-17   \n",
       "std                 1.003868e+00             1.003868e+00  ...  1.003868e+00   \n",
       "min                -2.199707e-01            -2.199707e-01  ... -7.426671e-01   \n",
       "25%                -2.199707e-01            -2.199707e-01  ... -7.426671e-01   \n",
       "50%                -2.199707e-01            -2.199707e-01  ... -1.539676e-01   \n",
       "75%                -2.199707e-01            -2.199707e-01  ...  4.347320e-01   \n",
       "max                 4.546061e+00             4.546061e+00  ...  3.966929e+00   \n",
       "\n",
       "          screaming       singing      applause        accent        crying  \\\n",
       "count  1.300000e+02  1.300000e+02  1.300000e+02  1.300000e+02  1.300000e+02   \n",
       "mean  -2.135044e-17 -5.465713e-17 -1.451830e-17 -1.058982e-16 -1.878839e-17   \n",
       "std    1.003868e+00  1.003868e+00  1.003868e+00  1.003868e+00  1.003868e+00   \n",
       "min   -5.054030e-01 -8.115516e-01 -6.620645e-01 -2.528318e-01 -5.740554e-01   \n",
       "25%   -5.054030e-01 -8.115516e-01 -6.620645e-01 -2.528318e-01 -5.740554e-01   \n",
       "50%   -5.054030e-01 -3.405618e-01 -6.620645e-01 -2.528318e-01 -5.740554e-01   \n",
       "75%    9.229098e-01  1.304279e-01  1.133264e-01 -2.528318e-01  2.460237e-01   \n",
       "max    5.207848e+00  5.782305e+00  4.765671e+00  1.005874e+01  4.346419e+00   \n",
       "\n",
       "            smiling          sigh          kiss  Michael_words  \n",
       "count  1.300000e+02  1.300000e+02  1.300000e+02   1.300000e+02  \n",
       "mean   4.419542e-17 -2.732857e-17 -2.391250e-17   3.947697e-16  \n",
       "std    1.003868e+00  1.003868e+00  1.003868e+00   1.003868e+00  \n",
       "min   -3.737480e-01 -6.454013e-01 -6.066828e-01  -1.447923e+00  \n",
       "25%   -3.737480e-01 -6.454013e-01 -6.066828e-01  -1.447923e+00  \n",
       "50%   -3.737480e-01 -6.454013e-01 -6.066828e-01   3.330559e-01  \n",
       "75%    2.187793e-01  7.789326e-02  2.505864e-01   7.805960e-01  \n",
       "max    8.514161e+00  4.417661e+00  4.536932e+00   1.714583e+00  \n",
       "\n",
       "[8 rows x 305 columns]"
      ]
     },
     "execution_count": 647,
     "metadata": {},
     "output_type": "execute_result"
    }
   ],
   "source": [
    "x_train_scaled.describe()"
   ]
  },
  {
   "cell_type": "code",
   "execution_count": 431,
   "metadata": {},
   "outputs": [
    {
     "data": {
      "text/plain": [
       "(-7.242070191401021e-16, 1.0)"
      ]
     },
     "execution_count": 431,
     "metadata": {},
     "output_type": "execute_result"
    }
   ],
   "source": [
    "y_train_scaled.mean(),y_train_scaled.std()"
   ]
  },
  {
   "cell_type": "code",
   "execution_count": 432,
   "metadata": {},
   "outputs": [
    {
     "data": {
      "text/plain": [
       "(-0.0585355865309267, 0.913640648685347)"
      ]
     },
     "execution_count": 432,
     "metadata": {},
     "output_type": "execute_result"
    }
   ],
   "source": [
    "y_test_scaled.mean(),y_test_scaled.std()"
   ]
  },
  {
   "cell_type": "markdown",
   "metadata": {},
   "source": [
    "## fitting"
   ]
  },
  {
   "cell_type": "code",
   "execution_count": 667,
   "metadata": {},
   "outputs": [
    {
     "data": {
      "text/plain": [
       "LassoCV()"
      ]
     },
     "execution_count": 667,
     "metadata": {},
     "output_type": "execute_result"
    }
   ],
   "source": [
    "lasso_cv = LassoCV()\n",
    "lasso_cv.fit(x_train_scaled, y_train_scaled)"
   ]
  },
  {
   "cell_type": "code",
   "execution_count": 668,
   "metadata": {},
   "outputs": [],
   "source": [
    "prediction =  lasso_cv.predict(x_test_scaled)"
   ]
  },
  {
   "cell_type": "code",
   "execution_count": 669,
   "metadata": {},
   "outputs": [
    {
     "data": {
      "text/plain": [
       "0.8549107426011306"
      ]
     },
     "execution_count": 669,
     "metadata": {},
     "output_type": "execute_result"
    }
   ],
   "source": [
    "np.sqrt(mean_squared_error(y_test_scaled, prediction))"
   ]
  },
  {
   "cell_type": "code",
   "execution_count": 670,
   "metadata": {},
   "outputs": [
    {
     "data": {
      "text/plain": [
       "0.12443030442201808"
      ]
     },
     "execution_count": 670,
     "metadata": {},
     "output_type": "execute_result"
    }
   ],
   "source": [
    "lasso_cv.score(x_test_scaled, y_test_scaled)"
   ]
  },
  {
   "cell_type": "code",
   "execution_count": 671,
   "metadata": {},
   "outputs": [
    {
     "data": {
      "text/plain": [
       "0.06487845049758115"
      ]
     },
     "execution_count": 671,
     "metadata": {},
     "output_type": "execute_result"
    }
   ],
   "source": [
    "lasso_cv.alpha_"
   ]
  },
  {
   "cell_type": "code",
   "execution_count": 672,
   "metadata": {},
   "outputs": [
    {
     "name": "stdout",
     "output_type": "stream",
     "text": [
      "0.208 crying\n",
      "0.174 double\n",
      "0.125 number_of_dialog\n",
      "0.111 Charles_words\n",
      "-0.111 writer_Jason_Kessler\n",
      "-0.098 Dwight_Oscar_dialog\n",
      "0.097 Michael_words\n",
      "-0.094 Andy_words\n",
      "-0.087 Oscar_Phyllis_dialog\n",
      "-0.083 Jim_Nellie_dialog\n",
      "-0.081 Erin_words\n",
      "0.07 writer_Jennifer_Celotta\n",
      "0.065 writer_Jon_Vitti\n",
      "0.064 writer_Nicki_Schwartz_Wright\n",
      "0.054 Darryl_Erin_dialog\n",
      "-0.053 Nellie_Pam_dialog\n",
      "-0.052 writer_Allison_Silverman\n",
      "-0.052 Dwight_Nellie_dialog\n",
      "-0.05 Angela_Oscar_dialog\n",
      "0.049 Michael_Phyllis_dialog\n",
      "-0.048 director_John_Krasinski\n",
      "0.046 writer_Paul_Lieberstein\n",
      "0.044 director_Joss_Whedon\n",
      "0.041 Darryl_Michael_dialog\n",
      "0.04 Erin_Jim_dialog\n",
      "0.04 writer_Steve_Carell\n",
      "0.038 wedding\n",
      "-0.036 writer_Peter_Ocko\n",
      "0.033 Jim_about_Dwight\n",
      "0.032 death\n",
      "0.032 accent\n",
      "-0.031 Andy_Pam_dialog\n",
      "-0.03 director_Randall_Einhorn\n",
      "0.03 director_Steve_Carell\n",
      "0.029 dundies\n",
      "-0.027 writer_Amelie_Gillette\n",
      "0.023 director_Harold_Ramis\n",
      "0.019 Dwight_Kevin_dialog\n",
      "0.017 Angela_Michael_dialog\n",
      "-0.016 Andy_Darryl_dialog\n",
      "-0.015 writer_Aaron_Shure\n",
      "0.015 Erin_Gabe_dialog\n",
      "0.015 Karen_words\n",
      "-0.013 Kevin_Oscar_dialog\n",
      "0.012 Holly_Phyllis_dialog\n",
      "0.011 kiss\n"
     ]
    }
   ],
   "source": [
    "important_features = []\n",
    "for name, val in sorted(zip(x_train.columns,lasso_cv.coef_),key=lambda x: abs(x[1]), reverse=True):\n",
    "    if val != 0:\n",
    "        important_features.append(name)\n",
    "        \n",
    "    if abs(val) > 0.01 :\n",
    "        print(round(val,3), name)\n",
    "        "
   ]
  },
  {
   "cell_type": "code",
   "execution_count": 673,
   "metadata": {},
   "outputs": [],
   "source": [
    "prediction_real = y_scaler.inverse_transform(prediction)"
   ]
  },
  {
   "cell_type": "code",
   "execution_count": 674,
   "metadata": {},
   "outputs": [
    {
     "data": {
      "text/plain": [
       "0.5344457663979525"
      ]
     },
     "execution_count": 674,
     "metadata": {},
     "output_type": "execute_result"
    }
   ],
   "source": [
    "np.sqrt(mean_squared_error(y_test, prediction_real))"
   ]
  },
  {
   "cell_type": "code",
   "execution_count": 675,
   "metadata": {},
   "outputs": [
    {
     "data": {
      "text/plain": [
       "[Text(0.5, 1.0, 'residuals across episodes')]"
      ]
     },
     "execution_count": 675,
     "metadata": {},
     "output_type": "execute_result"
    },
    {
     "data": {
      "image/png": "[encoded data removed]",
      "text/plain": [
       "<Figure size 1296x288 with 3 Axes>"
      ]
     },
     "metadata": {
      "needs_background": "light"
     },
     "output_type": "display_data"
    }
   ],
   "source": [
    "fig,ax = plt.subplots(figsize=(18,4), nrows=1, ncols=3)\n",
    "\n",
    "sns.scatterplot(x=y_test, y=prediction_real, ax=ax[0]).set(title=f'RMSE={RMSE(y_test, prediction_real)}')\n",
    "sns.lineplot(x=[7,8,9], y=[7,8,9], ax=ax[0])\n",
    "sns.kdeplot(prediction_real - y_test,ax=ax[1]).set(title='KDE of residuals')\n",
    "sns.scatterplot(x=y_test.index, y=prediction_real - y_test,ax=ax[2]).set(title='residuals across episodes')"
   ]
  },
  {
   "cell_type": "markdown",
   "metadata": {},
   "source": [
    "## Linear model"
   ]
  },
  {
   "cell_type": "code",
   "execution_count": 511,
   "metadata": {},
   "outputs": [
    {
     "name": "stdout",
     "output_type": "stream",
     "text": [
      "rating ~ crying + Nellie_words + double + Charles_words + writer_Jason_Kessler + Dwight_Oscar_dialog + number_of_dialog + Andy_words + writer_Jennifer_Celotta + writer_Allison_Silverman + director_John_Krasinski + writer_Amelie_Gillette + writer_Jon_Vitti + writer_Nicki_Schwartz_Wright + death + Nellie_Pam_dialog + Darryl_Erin_dialog + Michael_Phyllis_dialog + writer_Paul_Lieberstein + Angela_Erin_dialog + director_Joss_Whedon + Angela_Oscar_dialog + Oscar_Phyllis_dialog + writer_Peter_Ocko + writer_Steve_Carell + Clark_words + dundies + Robert_words + wedding + Darryl_Michael_dialog + director_Randall_Einhorn + director_Harold_Ramis + Jim_about_Dwight + accent + director_Steve_Carell + Erin_Jim_dialog + Angela_Michael_dialog + Roy_words + director_Jason_Reitman + Andy_Darryl_dialog + Kevin_Oscar_dialog + Andy_Ryan_dialog + Michael_Toby_dialog + Kelly_Meredith_dialog + Holly_Phyllis_dialog + writer_Aaron_Shure + David_words + Erin_Gabe_dialog + director_Paul_Feig + director_Paul_Lieberstein + Deangelo_words + Ryan_words + Andy_Kelly_dialog + director_Greg_Daniels + writer_Carrie_Kemper + Karen_words + Jan_Jim_dialog + Dwight_Kevin_dialog + director_Craig_Zisk + writer_Ricky_Gervais + Andy_Pam_dialog + Pam_Ryan_dialog + sales + kiss + director_Alex_Hardcastle + writer_Stephen_Merchant \n",
      "\n",
      "                            OLS Regression Results                            \n",
      "==============================================================================\n",
      "Dep. Variable:                 rating   R-squared:                       0.924\n",
      "Model:                            OLS   Adj. R-squared:                  0.851\n",
      "Method:                 Least Squares   F-statistic:                     12.66\n",
      "Date:                Thu, 03 Feb 2022   Prob (F-statistic):           1.65e-20\n",
      "Time:                        17:48:38   Log-Likelihood:                 43.771\n",
      "No. Observations:                 130   AIC:                             40.46\n",
      "Df Residuals:                      66   BIC:                             224.0\n",
      "Df Model:                          63                                         \n",
      "Covariance Type:            nonrobust                                         \n",
      "================================================================================================\n",
      "                                   coef    std err          t      P>|t|      [0.025      0.975]\n",
      "------------------------------------------------------------------------------------------------\n",
      "Intercept                        7.7248      0.107     71.860      0.000       7.510       7.939\n",
      "crying                           0.1633      0.024      6.822      0.000       0.116       0.211\n",
      "Nellie_words                    -0.0305      0.010     -3.086      0.003      -0.050      -0.011\n",
      "double                           0.1962      0.126      1.553      0.125      -0.056       0.448\n",
      "Charles_words                    0.0652      0.023      2.831      0.006       0.019       0.111\n",
      "writer_Jason_Kessler            -1.0157      0.257     -3.950      0.000      -1.529      -0.502\n",
      "Dwight_Oscar_dialog             -0.0390      0.014     -2.821      0.006      -0.067      -0.011\n",
      "number_of_dialog                 0.0037      0.001      2.753      0.008       0.001       0.006\n",
      "Andy_words                      -0.0019      0.005     -0.360      0.720      -0.012       0.009\n",
      "writer_Jennifer_Celotta          0.3129      0.143      2.190      0.032       0.028       0.598\n",
      "writer_Allison_Silverman        -0.5907      0.172     -3.433      0.001      -0.934      -0.247\n",
      "director_John_Krasinski         -0.6010      0.252     -2.388      0.020      -1.104      -0.099\n",
      "writer_Amelie_Gillette          -0.5685      0.233     -2.439      0.017      -1.034      -0.103\n",
      "writer_Jon_Vitti                 0.0236      0.011      2.058      0.044       0.001       0.046\n",
      "writer_Nicki_Schwartz_Wright     0.7625      0.275      2.777      0.007       0.214       1.311\n",
      "death                            4.4649      2.165      2.063      0.043       0.143       8.787\n",
      "Nellie_Pam_dialog               -0.0642      0.026     -2.465      0.016      -0.116      -0.012\n",
      "Darryl_Erin_dialog               0.2769      0.062      4.495      0.000       0.154       0.400\n",
      "Michael_Phyllis_dialog           0.0195      0.010      1.960      0.054      -0.000       0.039\n",
      "writer_Paul_Lieberstein          0.2787      0.092      3.038      0.003       0.096       0.462\n",
      "Angela_Erin_dialog              -0.0698      0.042     -1.677      0.098      -0.153       0.013\n",
      "director_Joss_Whedon             0.7865      0.269      2.922      0.005       0.249       1.324\n",
      "Angela_Oscar_dialog             -0.0068      0.010     -0.695      0.490      -0.026       0.013\n",
      "Oscar_Phyllis_dialog            -0.2135      0.069     -3.114      0.003      -0.350      -0.077\n",
      "writer_Peter_Ocko               -0.3412      0.126     -2.703      0.009      -0.593      -0.089\n",
      "writer_Steve_Carell              0.5035      0.198      2.549      0.013       0.109       0.898\n",
      "Clark_words                     -0.0216      0.015     -1.415      0.162      -0.052       0.009\n",
      "dundies                          0.5808      0.309      1.877      0.065      -0.037       1.198\n",
      "Robert_words                    -0.0116      0.011     -1.092      0.279      -0.033       0.010\n",
      "wedding                          1.0397      0.525      1.982      0.052      -0.008       2.087\n",
      "Darryl_Michael_dialog            0.0064      0.003      1.904      0.061      -0.000       0.013\n",
      "director_Randall_Einhorn        -0.1498      0.120     -1.249      0.216      -0.389       0.090\n",
      "director_Harold_Ramis            0.3510      0.191      1.839      0.070      -0.030       0.732\n",
      "Jim_about_Dwight                 0.0498      0.047      1.058      0.294      -0.044       0.144\n",
      "accent                           0.0371      0.016      2.359      0.021       0.006       0.069\n",
      "director_Steve_Carell            0.2292      0.314      0.730      0.468      -0.398       0.856\n",
      "Erin_Jim_dialog                  0.0636      0.070      0.909      0.367      -0.076       0.203\n",
      "Angela_Michael_dialog            0.0167      0.013      1.248      0.216      -0.010       0.043\n",
      "Roy_words                        0.0280      0.030      0.934      0.354      -0.032       0.088\n",
      "director_Jason_Reitman           0.2115      0.207      1.024      0.310      -0.201       0.624\n",
      "Andy_Darryl_dialog              -0.0038      0.005     -0.755      0.453      -0.014       0.006\n",
      "Kevin_Oscar_dialog              -0.0562      0.021     -2.665      0.010      -0.098      -0.014\n",
      "Andy_Ryan_dialog                -0.0794      0.054     -1.457      0.150      -0.188       0.029\n",
      "Michael_Toby_dialog              0.0058      0.004      1.515      0.135      -0.002       0.014\n",
      "Kelly_Meredith_dialog           -0.1204      0.076     -1.586      0.118      -0.272       0.031\n",
      "Holly_Phyllis_dialog             0.1414      0.069      2.058      0.044       0.004       0.279\n",
      "writer_Aaron_Shure              -0.2338      0.154     -1.519      0.134      -0.541       0.074\n",
      "David_words                      0.0179      0.014      1.322      0.191      -0.009       0.045\n",
      "Erin_Gabe_dialog                 0.0370      0.026      1.452      0.151      -0.014       0.088\n",
      "director_Paul_Feig               0.1126      0.112      1.009      0.317      -0.110       0.335\n",
      "director_Paul_Lieberstein       -0.0404      0.178     -0.227      0.821      -0.396       0.315\n",
      "Deangelo_words                  -0.0132      0.010     -1.329      0.188      -0.033       0.007\n",
      "Ryan_words                       0.0191      0.011      1.701      0.094      -0.003       0.041\n",
      "Andy_Kelly_dialog                0.0097      0.029      0.335      0.739      -0.048       0.067\n",
      "director_Greg_Daniels            0.0474      0.094      0.504      0.616      -0.140       0.235\n",
      "writer_Carrie_Kemper            -0.1780      0.227     -0.785      0.435      -0.631       0.275\n",
      "Karen_words                      0.0067      0.022      0.302      0.764      -0.038       0.051\n",
      "Jan_Jim_dialog                   0.0327      0.023      1.396      0.167      -0.014       0.079\n",
      "Dwight_Kevin_dialog              0.0064      0.015      0.435      0.665      -0.023       0.036\n",
      "director_Craig_Zisk             -0.4498      0.296     -1.521      0.133      -1.040       0.141\n",
      "writer_Ricky_Gervais            -0.1006      0.091     -1.100      0.275      -0.283       0.082\n",
      "Andy_Pam_dialog                 -0.0074      0.011     -0.674      0.503      -0.029       0.014\n",
      "Pam_Ryan_dialog                  0.0067      0.011      0.620      0.538      -0.015       0.028\n",
      "sales                           -0.2408      0.529     -0.455      0.651      -1.297       0.816\n",
      "kiss                             0.0111      0.025      0.453      0.652      -0.038       0.060\n",
      "director_Alex_Hardcastle        -0.3412      0.126     -2.703      0.009      -0.593      -0.089\n",
      "writer_Stephen_Merchant         -0.1006      0.091     -1.100      0.275      -0.283       0.082\n",
      "==============================================================================\n",
      "Omnibus:                       12.200   Durbin-Watson:                   1.821\n",
      "Prob(Omnibus):                  0.002   Jarque-Bera (JB):               29.175\n",
      "Skew:                           0.244   Prob(JB):                     4.62e-07\n",
      "Kurtosis:                       5.269   Cond. No.                     1.06e+16\n",
      "==============================================================================\n",
      "\n",
      "Notes:\n",
      "[1] Standard Errors assume that the covariance matrix of the errors is correctly specified.\n",
      "[2] The smallest eigenvalue is 5.49e-27. This might indicate that there are\n"
     ]
    },
    {
     "name": "stdout",
     "output_type": "stream",
     "text": [
      "strong multicollinearity problems or that the design matrix is singular.\n"
     ]
    },
    {
     "data": {
      "image/png": "[encoded data removed]",
      "text/plain": [
       "<Figure size 1296x288 with 3 Axes>"
      ]
     },
     "metadata": {
      "needs_background": "light"
     },
     "output_type": "display_data"
    }
   ],
   "source": [
    "res = linear_regression(train,test, important_features)"
   ]
  },
  {
   "cell_type": "code",
   "execution_count": 678,
   "metadata": {},
   "outputs": [],
   "source": [
    "rmse_mean, rmse_std, r2_mean, r2_std = [],[],[],[]\n",
    "\n",
    "for num in range(1,len(important_features)):\n",
    "\n",
    "    cv = cross_validate(ols, x_train[important_features[:num]], y_train.values, cv=5,scoring=('r2', 'neg_root_mean_squared_error'))\n",
    "    \n",
    "    rmse_mean.append(-1*(cv['test_neg_root_mean_squared_error'].mean()))\n",
    "    rmse_std.append((cv['test_neg_root_mean_squared_error'].std()))\n",
    "    \n",
    "    r2_mean.append(cv['test_r2'].mean())\n",
    "    r2_std.append(cv['test_r2'].std())\n",
    "    "
   ]
  },
  {
   "cell_type": "code",
   "execution_count": 679,
   "metadata": {},
   "outputs": [
    {
     "data": {
      "text/plain": [
       "<matplotlib.legend.Legend at 0x1e6b4ba7fa0>"
      ]
     },
     "execution_count": 679,
     "metadata": {},
     "output_type": "execute_result"
    },
    {
     "data": {
      "image/png": "[encoded data removed]",
      "text/plain": [
       "<Figure size 432x288 with 1 Axes>"
      ]
     },
     "metadata": {
      "needs_background": "light"
     },
     "output_type": "display_data"
    }
   ],
   "source": [
    "sns.lineplot(x=range(1,len(important_features)), y=rmse_mean, color='red', linestyle='-' )\n",
    "sns.lineplot(x=range(1,len(important_features)), y=rmse_std, color='red', linestyle='--')\n",
    "\n",
    "plt.legend([])\n",
    "sns.lineplot(x=range(1,len(important_features)), y=r2_mean, color='blue' )\n",
    "\n",
    "sns.lineplot(x=range(1,len(important_features)), y=r2_std, color='blue', linestyle='--')\n",
    "plt.legend(['rmse mean','rmse: std','r2: mean',  'r2:std'])"
   ]
  },
  {
   "cell_type": "code",
   "execution_count": 601,
   "metadata": {},
   "outputs": [
    {
     "data": {
      "text/plain": [
       "(array([29], dtype=int64),)"
      ]
     },
     "execution_count": 601,
     "metadata": {},
     "output_type": "execute_result"
    }
   ],
   "source": [
    "np.where(rmse_mean == min(rmse_mean))"
   ]
  },
  {
   "cell_type": "code",
   "execution_count": 602,
   "metadata": {},
   "outputs": [
    {
     "data": {
      "text/plain": [
       "(array([29], dtype=int64),)"
      ]
     },
     "execution_count": 602,
     "metadata": {},
     "output_type": "execute_result"
    }
   ],
   "source": [
    "np.where(r2_mean == max(r2_mean))"
   ]
  },
  {
   "cell_type": "code",
   "execution_count": 676,
   "metadata": {},
   "outputs": [
    {
     "data": {
      "image/png": "[encoded data removed]",
      "text/plain": [
       "<Figure size 432x288 with 1 Axes>"
      ]
     },
     "metadata": {
      "needs_background": "light"
     },
     "output_type": "display_data"
    },
    {
     "data": {
      "image/png": "[encoded data removed]",
      "text/plain": [
       "<Figure size 432x288 with 1 Axes>"
      ]
     },
     "metadata": {
      "needs_background": "light"
     },
     "output_type": "display_data"
    },
    {
     "data": {
      "image/png": "[encoded data removed]",
      "text/plain": [
       "<Figure size 432x288 with 1 Axes>"
      ]
     },
     "metadata": {
      "needs_background": "light"
     },
     "output_type": "display_data"
    },
    {
     "data": {
      "image/png": "[encoded data removed]",
      "text/plain": [
       "<Figure size 432x288 with 1 Axes>"
      ]
     },
     "metadata": {
      "needs_background": "light"
     },
     "output_type": "display_data"
    },
    {
     "data": {
      "image/png": "[encoded data removed]",
      "text/plain": [
       "<Figure size 432x288 with 1 Axes>"
      ]
     },
     "metadata": {
      "needs_background": "light"
     },
     "output_type": "display_data"
    },
    {
     "data": {
      "image/png": "[encoded data removed]",
      "text/plain": [
       "<Figure size 432x288 with 1 Axes>"
      ]
     },
     "metadata": {
      "needs_background": "light"
     },
     "output_type": "display_data"
    },
    {
     "data": {
      "image/png": "[encoded data removed]",
      "text/plain": [
       "<Figure size 432x288 with 1 Axes>"
      ]
     },
     "metadata": {
      "needs_background": "light"
     },
     "output_type": "display_data"
    },
    {
     "data": {
      "image/png": "[encoded data removed]",
      "text/plain": [
       "<Figure size 432x288 with 1 Axes>"
      ]
     },
     "metadata": {
      "needs_background": "light"
     },
     "output_type": "display_data"
    },
    {
     "data": {
      "image/png": "[encoded data removed]",
      "text/plain": [
       "<Figure size 432x288 with 1 Axes>"
      ]
     },
     "metadata": {
      "needs_background": "light"
     },
     "output_type": "display_data"
    },
    {
     "data": {
      "image/png": "[encoded data removed]",
      "text/plain": [
       "<Figure size 432x288 with 1 Axes>"
      ]
     },
     "metadata": {
      "needs_background": "light"
     },
     "output_type": "display_data"
    }
   ],
   "source": [
    "for feat in important_features[:10]:\n",
    "    plt.figure(figsize=[ 6,4])\n",
    "    sns.scatterplot(x=train.rating, y=train[feat])\n",
    "    "
   ]
  },
  {
   "cell_type": "code",
   "execution_count": 687,
   "metadata": {},
   "outputs": [
    {
     "name": "stdout",
     "output_type": "stream",
     "text": [
      "rating ~ crying + double + number_of_dialog + Charles_words + writer_Jason_Kessler + Dwight_Oscar_dialog + Michael_words \n",
      "\n",
      "                            OLS Regression Results                            \n",
      "==============================================================================\n",
      "Dep. Variable:                 rating   R-squared:                       0.495\n",
      "Model:                            OLS   Adj. R-squared:                  0.466\n",
      "Method:                 Least Squares   F-statistic:                     17.05\n",
      "Date:                Thu, 03 Feb 2022   Prob (F-statistic):           1.42e-15\n",
      "Time:                        19:27:58   Log-Likelihood:                -79.047\n",
      "No. Observations:                 130   AIC:                             174.1\n",
      "Df Residuals:                     122   BIC:                             197.0\n",
      "Df Model:                           7                                         \n",
      "Covariance Type:            nonrobust                                         \n",
      "========================================================================================\n",
      "                           coef    std err          t      P>|t|      [0.025      0.975]\n",
      "----------------------------------------------------------------------------------------\n",
      "Intercept                7.4092      0.152     48.840      0.000       7.109       7.710\n",
      "crying                   0.1133      0.036      3.181      0.002       0.043       0.184\n",
      "double                   0.6677      0.161      4.137      0.000       0.348       0.987\n",
      "number_of_dialog         0.0051      0.002      2.669      0.009       0.001       0.009\n",
      "Charles_words            0.0852      0.028      3.051      0.003       0.030       0.141\n",
      "writer_Jason_Kessler    -1.3527      0.471     -2.875      0.005      -2.284      -0.421\n",
      "Dwight_Oscar_dialog     -0.0362      0.019     -1.951      0.053      -0.073       0.001\n",
      "Michael_words            0.0139      0.002      5.806      0.000       0.009       0.019\n",
      "==============================================================================\n",
      "Omnibus:                        1.874   Durbin-Watson:                   2.047\n",
      "Prob(Omnibus):                  0.392   Jarque-Bera (JB):                1.410\n",
      "Skew:                          -0.142   Prob(JB):                        0.494\n",
      "Kurtosis:                       3.424   Cond. No.                         849.\n",
      "==============================================================================\n",
      "\n",
      "Notes:\n",
      "[1] Standard Errors assume that the covariance matrix of the errors is correctly specified.\n"
     ]
    },
    {
     "data": {
      "text/plain": [
       "<statsmodels.regression.linear_model.RegressionResultsWrapper at 0x1e6b0854820>"
      ]
     },
     "execution_count": 687,
     "metadata": {},
     "output_type": "execute_result"
    },
    {
     "data": {
      "image/png": "[encoded data removed]",
      "text/plain": [
       "<Figure size 1296x288 with 3 Axes>"
      ]
     },
     "metadata": {
      "needs_background": "light"
     },
     "output_type": "display_data"
    }
   ],
   "source": [
    "linear_regression(train,test, important_features[:7])"
   ]
  },
  {
   "cell_type": "code",
   "execution_count": 685,
   "metadata": {},
   "outputs": [],
   "source": [
    "del_list = ['Andy_words']\n",
    "choosed_features = [word for word in important_features[:10] if word not in del_list]"
   ]
  },
  {
   "cell_type": "code",
   "execution_count": 686,
   "metadata": {},
   "outputs": [
    {
     "name": "stdout",
     "output_type": "stream",
     "text": [
      "rating ~ crying + double + number_of_dialog + Charles_words + writer_Jason_Kessler + Dwight_Oscar_dialog + Michael_words + Oscar_Phyllis_dialog + Jim_Nellie_dialog \n",
      "\n",
      "                            OLS Regression Results                            \n",
      "==============================================================================\n",
      "Dep. Variable:                 rating   R-squared:                       0.550\n",
      "Model:                            OLS   Adj. R-squared:                  0.516\n",
      "Method:                 Least Squares   F-statistic:                     16.28\n",
      "Date:                Thu, 03 Feb 2022   Prob (F-statistic):           3.40e-17\n",
      "Time:                        19:27:29   Log-Likelihood:                -71.523\n",
      "No. Observations:                 130   AIC:                             163.0\n",
      "Df Residuals:                     120   BIC:                             191.7\n",
      "Df Model:                           9                                         \n",
      "Covariance Type:            nonrobust                                         \n",
      "========================================================================================\n",
      "                           coef    std err          t      P>|t|      [0.025      0.975]\n",
      "----------------------------------------------------------------------------------------\n",
      "Intercept                7.5217      0.147     51.019      0.000       7.230       7.814\n",
      "crying                   0.1186      0.034      3.475      0.001       0.051       0.186\n",
      "double                   0.6503      0.154      4.227      0.000       0.346       0.955\n",
      "number_of_dialog         0.0044      0.002      2.441      0.016       0.001       0.008\n",
      "Charles_words            0.0830      0.027      3.120      0.002       0.030       0.136\n",
      "writer_Jason_Kessler    -1.3610      0.448     -3.039      0.003      -2.248      -0.474\n",
      "Dwight_Oscar_dialog     -0.0412      0.018     -2.326      0.022      -0.076      -0.006\n",
      "Michael_words            0.0119      0.002      5.106      0.000       0.007       0.017\n",
      "Oscar_Phyllis_dialog    -0.2616      0.111     -2.349      0.020      -0.482      -0.041\n",
      "Jim_Nellie_dialog       -0.0796      0.026     -3.106      0.002      -0.130      -0.029\n",
      "==============================================================================\n",
      "Omnibus:                        1.075   Durbin-Watson:                   2.074\n",
      "Prob(Omnibus):                  0.584   Jarque-Bera (JB):                0.644\n",
      "Skew:                           0.060   Prob(JB):                        0.725\n",
      "Kurtosis:                       3.323   Cond. No.                         849.\n",
      "==============================================================================\n",
      "\n",
      "Notes:\n",
      "[1] Standard Errors assume that the covariance matrix of the errors is correctly specified.\n"
     ]
    },
    {
     "data": {
      "text/plain": [
       "<statsmodels.regression.linear_model.RegressionResultsWrapper at 0x1e6b489d550>"
      ]
     },
     "execution_count": 686,
     "metadata": {},
     "output_type": "execute_result"
    },
    {
     "data": {
      "image/png": "[encoded data removed]",
      "text/plain": [
       "<Figure size 1296x288 with 3 Axes>"
      ]
     },
     "metadata": {
      "needs_background": "light"
     },
     "output_type": "display_data"
    }
   ],
   "source": [
    "linear_regression(train,test, choosed_features)"
   ]
  },
  {
   "cell_type": "code",
   "execution_count": null,
   "metadata": {},
   "outputs": [],
   "source": []
  }
 ],
 "metadata": {
  "kernelspec": {
   "display_name": "Python 3",
   "language": "python",
   "name": "python3"
  },
  "language_info": {
   "codemirror_mode": {
    "name": "ipython",
    "version": 3
   },
   "file_extension": ".py",
   "mimetype": "text/x-python",
   "name": "python",
   "nbconvert_exporter": "python",
   "pygments_lexer": "ipython3",
   "version": "3.8.5"
  },
  "toc": {
   "base_numbering": 1,
   "nav_menu": {
    "height": "381.997px",
    "width": "312.986px"
   },
   "number_sections": true,
   "sideBar": true,
   "skip_h1_title": false,
   "title_cell": "Table of Contents",
   "title_sidebar": "Contents",
   "toc_cell": false,
   "toc_position": {},
   "toc_section_display": true,
   "toc_window_display": false
  }
 },
 "nbformat": 4,
 "nbformat_minor": 4
}
