{
 "cells": [
  {
   "cell_type": "markdown",
   "metadata": {},
   "source": [
    "# Preparation of schrut dataset\n",
    "https://towardsdatascience.com/python-text-analysis-with-the-schrutepy-package-234bc70f3916"
   ]
  },
  {
   "cell_type": "code",
   "execution_count": 1,
   "metadata": {},
   "outputs": [],
   "source": [
    "import seaborn as sns\n",
    "import pandas as pd\n",
    "import numpy as np\n",
    "import matplotlib.pyplot as plt\n",
    "\n",
    "%matplotlib inline"
   ]
  },
  {
   "cell_type": "code",
   "execution_count": 2,
   "metadata": {},
   "outputs": [],
   "source": [
    "# pip install schrutepy"
   ]
  },
  {
   "cell_type": "code",
   "execution_count": 3,
   "metadata": {},
   "outputs": [],
   "source": [
    "from schrutepy import schrutepy "
   ]
  },
  {
   "cell_type": "code",
   "execution_count": 4,
   "metadata": {},
   "outputs": [],
   "source": [
    "df = schrutepy.load_schrute()"
   ]
  },
  {
   "cell_type": "code",
   "execution_count": 5,
   "metadata": {},
   "outputs": [
    {
     "data": {
      "text/html": [
       "<div>\n",
       "<style scoped>\n",
       "    .dataframe tbody tr th:only-of-type {\n",
       "        vertical-align: middle;\n",
       "    }\n",
       "\n",
       "    .dataframe tbody tr th {\n",
       "        vertical-align: top;\n",
       "    }\n",
       "\n",
       "    .dataframe thead th {\n",
       "        text-align: right;\n",
       "    }\n",
       "</style>\n",
       "<table border=\"1\" class=\"dataframe\">\n",
       "  <thead>\n",
       "    <tr style=\"text-align: right;\">\n",
       "      <th></th>\n",
       "      <th>index</th>\n",
       "      <th>season</th>\n",
       "      <th>episode</th>\n",
       "      <th>episode_name</th>\n",
       "      <th>director</th>\n",
       "      <th>writer</th>\n",
       "      <th>character</th>\n",
       "      <th>text</th>\n",
       "      <th>text_w_direction</th>\n",
       "    </tr>\n",
       "  </thead>\n",
       "  <tbody>\n",
       "    <tr>\n",
       "      <th>0</th>\n",
       "      <td>1</td>\n",
       "      <td>1</td>\n",
       "      <td>1</td>\n",
       "      <td>Pilot</td>\n",
       "      <td>Ken Kwapis</td>\n",
       "      <td>Ricky Gervais;Stephen Merchant;Greg Daniels</td>\n",
       "      <td>Michael</td>\n",
       "      <td>All right Jim. Your quarterlies look very good...</td>\n",
       "      <td>All right Jim. Your quarterlies look very good...</td>\n",
       "    </tr>\n",
       "    <tr>\n",
       "      <th>1</th>\n",
       "      <td>2</td>\n",
       "      <td>1</td>\n",
       "      <td>1</td>\n",
       "      <td>Pilot</td>\n",
       "      <td>Ken Kwapis</td>\n",
       "      <td>Ricky Gervais;Stephen Merchant;Greg Daniels</td>\n",
       "      <td>Jim</td>\n",
       "      <td>Oh, I told you. I couldn't close it. So...</td>\n",
       "      <td>Oh, I told you. I couldn't close it. So...</td>\n",
       "    </tr>\n",
       "    <tr>\n",
       "      <th>2</th>\n",
       "      <td>3</td>\n",
       "      <td>1</td>\n",
       "      <td>1</td>\n",
       "      <td>Pilot</td>\n",
       "      <td>Ken Kwapis</td>\n",
       "      <td>Ricky Gervais;Stephen Merchant;Greg Daniels</td>\n",
       "      <td>Michael</td>\n",
       "      <td>So you've come to the master for guidance? Is ...</td>\n",
       "      <td>So you've come to the master for guidance? Is ...</td>\n",
       "    </tr>\n",
       "    <tr>\n",
       "      <th>3</th>\n",
       "      <td>4</td>\n",
       "      <td>1</td>\n",
       "      <td>1</td>\n",
       "      <td>Pilot</td>\n",
       "      <td>Ken Kwapis</td>\n",
       "      <td>Ricky Gervais;Stephen Merchant;Greg Daniels</td>\n",
       "      <td>Jim</td>\n",
       "      <td>Actually, you called me in here, but yeah.</td>\n",
       "      <td>Actually, you called me in here, but yeah.</td>\n",
       "    </tr>\n",
       "    <tr>\n",
       "      <th>4</th>\n",
       "      <td>5</td>\n",
       "      <td>1</td>\n",
       "      <td>1</td>\n",
       "      <td>Pilot</td>\n",
       "      <td>Ken Kwapis</td>\n",
       "      <td>Ricky Gervais;Stephen Merchant;Greg Daniels</td>\n",
       "      <td>Michael</td>\n",
       "      <td>All right. Well, let me show you how it's done.</td>\n",
       "      <td>All right. Well, let me show you how it's done.</td>\n",
       "    </tr>\n",
       "  </tbody>\n",
       "</table>\n",
       "</div>"
      ],
      "text/plain": [
       "   index  season  episode episode_name    director  \\\n",
       "0      1       1        1        Pilot  Ken Kwapis   \n",
       "1      2       1        1        Pilot  Ken Kwapis   \n",
       "2      3       1        1        Pilot  Ken Kwapis   \n",
       "3      4       1        1        Pilot  Ken Kwapis   \n",
       "4      5       1        1        Pilot  Ken Kwapis   \n",
       "\n",
       "                                        writer character  \\\n",
       "0  Ricky Gervais;Stephen Merchant;Greg Daniels   Michael   \n",
       "1  Ricky Gervais;Stephen Merchant;Greg Daniels       Jim   \n",
       "2  Ricky Gervais;Stephen Merchant;Greg Daniels   Michael   \n",
       "3  Ricky Gervais;Stephen Merchant;Greg Daniels       Jim   \n",
       "4  Ricky Gervais;Stephen Merchant;Greg Daniels   Michael   \n",
       "\n",
       "                                                text  \\\n",
       "0  All right Jim. Your quarterlies look very good...   \n",
       "1         Oh, I told you. I couldn't close it. So...   \n",
       "2  So you've come to the master for guidance? Is ...   \n",
       "3         Actually, you called me in here, but yeah.   \n",
       "4    All right. Well, let me show you how it's done.   \n",
       "\n",
       "                                    text_w_direction  \n",
       "0  All right Jim. Your quarterlies look very good...  \n",
       "1         Oh, I told you. I couldn't close it. So...  \n",
       "2  So you've come to the master for guidance? Is ...  \n",
       "3         Actually, you called me in here, but yeah.  \n",
       "4    All right. Well, let me show you how it's done.  "
      ]
     },
     "execution_count": 5,
     "metadata": {},
     "output_type": "execute_result"
    }
   ],
   "source": [
    "df.head()"
   ]
  },
  {
   "cell_type": "code",
   "execution_count": 6,
   "metadata": {},
   "outputs": [
    {
     "data": {
      "text/plain": [
       "The Delivery (Parts 1&2)               625\n",
       "Classy Christmas (Parts 1&2)           598\n",
       "Niagara (Parts 1&2)                    552\n",
       "Dunder Mifflin Infinity (Parts 1&2)    551\n",
       "Launch Party (Parts 1&2)               545\n",
       "                                      ... \n",
       "Job Fair                               188\n",
       "Business School                        185\n",
       "Phyllis' Wedding                       180\n",
       "Gay Witch Hunt                         141\n",
       "The Banker                             131\n",
       "Name: episode_name, Length: 186, dtype: int64"
      ]
     },
     "execution_count": 6,
     "metadata": {},
     "output_type": "execute_result"
    }
   ],
   "source": [
    "df.episode_name.value_counts()"
   ]
  },
  {
   "cell_type": "code",
   "execution_count": 7,
   "metadata": {},
   "outputs": [],
   "source": [
    "def all_episodes(df):\n",
    "    seasons = df.season.unique()\n",
    "    \n",
    "    for season in seasons:\n",
    "        print()\n",
    "        print(season)\n",
    "        \n",
    "        print(df[df.season==season].episode.unique())"
   ]
  },
  {
   "cell_type": "code",
   "execution_count": 8,
   "metadata": {},
   "outputs": [
    {
     "name": "stdout",
     "output_type": "stream",
     "text": [
      "\n",
      "1\n",
      "[1 2 3 4 5 6]\n",
      "\n",
      "2\n",
      "[ 1  2  3  4  5  6  7  8  9 10 11 12 13 14 15 16 17 18 19 20 21 22]\n",
      "\n",
      "3\n",
      "[ 1  2  3  4  5  6  7  8  9 10 12 13 14 15 16 17 18 19 20 21 22 23 24]\n",
      "\n",
      "4\n",
      "[ 1  3  5  7  9 10 11 12 13 14 15 16 17 18]\n",
      "\n",
      "5\n",
      "[ 1  3  4  5  6  7  8  9 10 11 12 13 14 16 17 18 19 20 21 22 23 24 25 26\n",
      " 27 28]\n",
      "\n",
      "6\n",
      "[ 1  2  3  4  6  7  8  9 10 11 12 13 14 15 16 17 19 20 21 22 23 24 25 26]\n",
      "\n",
      "7\n",
      "[ 1  2  3  4  5  6  7  8  9 10 11 13 14 15 16 17 18 19 20 21 22 23 24 25]\n",
      "\n",
      "8\n",
      "[ 1  2  3  4  5  6  7  8  9 10 11 12 13 14 15 16 17 18 19 20 21 22 23 24]\n",
      "\n",
      "9\n",
      "[ 1  2  3  4  5  6  7  8  9 10 11 12 13 14 15 16 17 18 19 20 21 22 24]\n"
     ]
    }
   ],
   "source": [
    "all_episodes(df)"
   ]
  },
  {
   "cell_type": "code",
   "execution_count": 9,
   "metadata": {},
   "outputs": [
    {
     "data": {
      "text/plain": [
       "array(['A Benihana Christmas (Parts 1&2)', 'The Job (Parts 1&2)',\n",
       "       'Fun Run (Parts 1&2)', 'Dunder Mifflin Infinity (Parts 1&2)',\n",
       "       'Launch Party (Parts 1&2)', 'Money (Parts 1&2)',\n",
       "       'Goodbye, Toby (Parts 1&2)', 'Weight Loss (Parts 1&2)',\n",
       "       'Stress Relief (Parts 1&2)', 'Niagara (Parts 1&2)',\n",
       "       'The Delivery (Parts 1&2)', 'Classy Christmas (Parts 1&2)',\n",
       "       'Search Committee (Parts 1&2)'], dtype=object)"
      ]
     },
     "execution_count": 9,
     "metadata": {},
     "output_type": "execute_result"
    }
   ],
   "source": [
    "df[df.episode_name.str.lower().str.contains('parts 1&2')].episode_name.unique()"
   ]
  },
  {
   "cell_type": "markdown",
   "metadata": {},
   "source": [
    "# Clean data"
   ]
  },
  {
   "cell_type": "markdown",
   "metadata": {},
   "source": [
    "### Clean writer"
   ]
  },
  {
   "cell_type": "code",
   "execution_count": 9,
   "metadata": {},
   "outputs": [
    {
     "name": "stdout",
     "output_type": "stream",
     "text": [
      "Aaron Shure\n",
      "Allison Silverman\n",
      "Amelie Gillette\n",
      "Anthony Q. Farrell\n",
      "B.J. Novak\n",
      "Brent Forrester\n",
      "Brent Forrester;Justin Spitzer\n",
      "Caroline Williams\n",
      "Carrie Kemper\n",
      "Charlie Grandy\n",
      "Dan Greaney\n",
      "Dan Sterling\n",
      "Daniel Chun\n",
      "Daniel Chun;Charlie Grandy\n",
      "Gene Stupnitsky;Lee Eisenberg\n",
      "Graham Wagner\n",
      "Greg Daniels\n",
      "Greg Daniels;Mindy Kaling\n",
      "Halsted Sullivan;Warren Lieberstein\n",
      "Jason Kessler\n",
      "Jennifer Celotta\n",
      "Jennifer Celotta;Greg Daniels\n",
      "Jennifer Celotta;Paul Lieberstein\n",
      "Jon Vitti\n",
      "Jonathan Green;Gabe Miller\n",
      "Jonathan Huges\n",
      "Justin Spitzer\n",
      "Larry Willmore\n",
      "Lee Eisenberg;Gene Stupnitsky\n",
      "Lee Eisenberg;Gene Stupnitsky;Michael Schur\n",
      "Lester Lewis\n",
      "Michael Schur\n",
      "Michael Schur;Lee Eisenberg;Gene Stupnitsky\n",
      "Mindy Kaling\n",
      "Nicki Schwartz-Wright\n",
      "Owen Ellickson\n",
      "Paul Lieberstein\n",
      "Paul Lieberstein;Michael Schur\n",
      "Peter Ocko\n",
      "Ricky Gervais;Stephen Merchant\n",
      "Ricky Gervais;Stephen Merchant;Greg Daniels\n",
      "Robert Padnick\n",
      "Ryan Koh\n",
      "Steve Carell\n",
      "Steve Hely\n",
      "Tim McAuliffe\n",
      "Warren Lieberstein;Halsted Sullivan\n"
     ]
    }
   ],
   "source": [
    "for name in np.sort(df.writer.unique()):\n",
    "    print(name)"
   ]
  },
  {
   "cell_type": "code",
   "execution_count": 10,
   "metadata": {},
   "outputs": [],
   "source": [
    "def clean_writer(df):\n",
    "    df.loc[df.writer=='Halsted Sullivan;Warren Lieberstein','writer'] = 'Warren Lieberstein;Halsted Sullivan'\n",
    "    df.loc[df.writer=='Gene Stupnitsky;Lee Eisenberg','writer'] = 'Lee Eisenberg;Gene Stupnitsky'\n",
    "    df.loc[df.writer=='Michael Schur;Lee Eisenberg;Gene Stupnitsky','writer'] = 'Lee Eisenberg;Gene Stupnitsky;Michael Schur'\n",
    "#     df[df.writer==] = \n",
    "    \n",
    "    return df"
   ]
  },
  {
   "cell_type": "code",
   "execution_count": 11,
   "metadata": {},
   "outputs": [],
   "source": [
    "df = clean_writer(df)"
   ]
  },
  {
   "cell_type": "markdown",
   "metadata": {},
   "source": [
    "## clean director names"
   ]
  },
  {
   "cell_type": "code",
   "execution_count": 12,
   "metadata": {},
   "outputs": [],
   "source": [
    "def clean_director(df):\n",
    "    df.loc[df.director=='Greg Daneils','director'] = 'Greg Daniels'\n",
    "    df.loc[df.director=='Charles McDougal','director'] = 'Charles McDougall'\n",
    "    df.loc[df.director=='Claire Scanlong','director'] = 'Claire Scanlon'\n",
    "    df.loc[df.director=='Ken Wittingham','director'] = 'Ken Whittingham'\n",
    "    df.loc[df.director=='Paul Lieerstein','director'] = 'Paul Lieberstein'\n",
    "    df.loc[df.director=='Gene Stupnitsky;Lee Eisenberg','director'] = 'Lee Eisenberg;Gene Stupnitsky'\n",
    "    return df"
   ]
  },
  {
   "cell_type": "code",
   "execution_count": 13,
   "metadata": {},
   "outputs": [],
   "source": [
    "df = clean_director(df)"
   ]
  },
  {
   "cell_type": "code",
   "execution_count": 14,
   "metadata": {},
   "outputs": [
    {
     "name": "stdout",
     "output_type": "stream",
     "text": [
      "Abrams\n",
      "Appel\n",
      "Arteta\n",
      "Baumgartner\n",
      "Blitz\n",
      "Cantley-Kashima\n",
      "Carell\n",
      "Celotta\n",
      "Chun\n",
      "Cranston\n",
      "Daniels\n",
      "Einhorn\n",
      "Eisenberg;Gene\n",
      "Farino\n",
      "Favreau\n",
      "Feig\n",
      "Flender\n",
      "Forrester\n",
      "Gates\n",
      "Gordon\n",
      "Gordon\n",
      "Gordon\n",
      "Gordon;Harold\n",
      "Grandy\n",
      "Hardcastle\n",
      "Heckerling\n",
      "Helms\n",
      "Holland\n",
      "Hudlin\n",
      "Kaling\n",
      "Kelada\n",
      "Kirk\n",
      "Krasinski\n",
      "Kwapis\n",
      "Leiner\n",
      "Lieberstein\n",
      "McDougall\n",
      "Merchant\n",
      "Miller\n",
      "Nelli\n",
      "Novak\n",
      "Nygard\n",
      "Peretz\n",
      "Ramis\n",
      "Reitman\n",
      "Rogers\n",
      "Scanlon\n",
      "Scott\n",
      "Sohn\n",
      "Spiller\n",
      "Webb\n",
      "Whedon\n",
      "Whittingham\n",
      "Wilson\n",
      "Zisk\n"
     ]
    }
   ],
   "source": [
    "family_name = []\n",
    "for name in np.sort(df.director.value_counts().index.str.split(' ')):\n",
    "    family_name.append(name[1])\n",
    "    \n",
    "for name in np.sort(family_name):\n",
    "    print(name)"
   ]
  },
  {
   "cell_type": "markdown",
   "metadata": {},
   "source": [
    "# Create df with episodes properties"
   ]
  },
  {
   "cell_type": "code",
   "execution_count": 15,
   "metadata": {},
   "outputs": [],
   "source": [
    "def episodes_df(df):\n",
    "    db = {}\n",
    "    count = 0\n",
    "    seasons = df.season.unique()\n",
    "    \n",
    "    for season in seasons:\n",
    "        episodes = df[df.season==season].episode.unique()\n",
    "        \n",
    "        for episode in episodes:\n",
    "            title = df[(df.season==season) & (df.episode==episode)].episode_name.values[0]\n",
    "            director = df[(df.season==season) & (df.episode==episode)].director.values[0]\n",
    "            writer = df[(df.season==season) & (df.episode==episode)].writer.values[0]\n",
    "            \n",
    "            db[count] = {'season':season,'episode':episode,\n",
    "                         'title':title,'director':director,\n",
    "                        'writer':writer}\n",
    "        \n",
    "            count += 1\n",
    "    \n",
    "    return pd.DataFrame(db).transpose()"
   ]
  },
  {
   "cell_type": "code",
   "execution_count": 16,
   "metadata": {},
   "outputs": [],
   "source": [
    "df_episode = episodes_df(df)"
   ]
  },
  {
   "cell_type": "code",
   "execution_count": 17,
   "metadata": {},
   "outputs": [
    {
     "data": {
      "text/html": [
       "<div>\n",
       "<style scoped>\n",
       "    .dataframe tbody tr th:only-of-type {\n",
       "        vertical-align: middle;\n",
       "    }\n",
       "\n",
       "    .dataframe tbody tr th {\n",
       "        vertical-align: top;\n",
       "    }\n",
       "\n",
       "    .dataframe thead th {\n",
       "        text-align: right;\n",
       "    }\n",
       "</style>\n",
       "<table border=\"1\" class=\"dataframe\">\n",
       "  <thead>\n",
       "    <tr style=\"text-align: right;\">\n",
       "      <th></th>\n",
       "      <th>season</th>\n",
       "      <th>episode</th>\n",
       "      <th>title</th>\n",
       "      <th>director</th>\n",
       "      <th>writer</th>\n",
       "    </tr>\n",
       "  </thead>\n",
       "  <tbody>\n",
       "    <tr>\n",
       "      <th>0</th>\n",
       "      <td>1</td>\n",
       "      <td>1</td>\n",
       "      <td>Pilot</td>\n",
       "      <td>Ken Kwapis</td>\n",
       "      <td>Ricky Gervais;Stephen Merchant;Greg Daniels</td>\n",
       "    </tr>\n",
       "    <tr>\n",
       "      <th>1</th>\n",
       "      <td>1</td>\n",
       "      <td>2</td>\n",
       "      <td>Diversity Day</td>\n",
       "      <td>Ken Kwapis</td>\n",
       "      <td>B.J. Novak</td>\n",
       "    </tr>\n",
       "    <tr>\n",
       "      <th>2</th>\n",
       "      <td>1</td>\n",
       "      <td>3</td>\n",
       "      <td>Health Care</td>\n",
       "      <td>Ken Whittingham</td>\n",
       "      <td>Paul Lieberstein</td>\n",
       "    </tr>\n",
       "    <tr>\n",
       "      <th>3</th>\n",
       "      <td>1</td>\n",
       "      <td>4</td>\n",
       "      <td>The Alliance</td>\n",
       "      <td>Bryan Gordon</td>\n",
       "      <td>Michael Schur</td>\n",
       "    </tr>\n",
       "    <tr>\n",
       "      <th>4</th>\n",
       "      <td>1</td>\n",
       "      <td>5</td>\n",
       "      <td>Basketball</td>\n",
       "      <td>Greg Daniels</td>\n",
       "      <td>Greg Daniels</td>\n",
       "    </tr>\n",
       "  </tbody>\n",
       "</table>\n",
       "</div>"
      ],
      "text/plain": [
       "  season episode          title         director  \\\n",
       "0      1       1          Pilot       Ken Kwapis   \n",
       "1      1       2  Diversity Day       Ken Kwapis   \n",
       "2      1       3    Health Care  Ken Whittingham   \n",
       "3      1       4   The Alliance     Bryan Gordon   \n",
       "4      1       5     Basketball     Greg Daniels   \n",
       "\n",
       "                                        writer  \n",
       "0  Ricky Gervais;Stephen Merchant;Greg Daniels  \n",
       "1                                   B.J. Novak  \n",
       "2                             Paul Lieberstein  \n",
       "3                                Michael Schur  \n",
       "4                                 Greg Daniels  "
      ]
     },
     "execution_count": 17,
     "metadata": {},
     "output_type": "execute_result"
    }
   ],
   "source": [
    "df_episode.head()"
   ]
  },
  {
   "cell_type": "code",
   "execution_count": 18,
   "metadata": {},
   "outputs": [
    {
     "name": "stdout",
     "output_type": "stream",
     "text": [
      "<class 'pandas.core.frame.DataFrame'>\n",
      "Int64Index: 186 entries, 0 to 185\n",
      "Data columns (total 5 columns):\n",
      " #   Column    Non-Null Count  Dtype \n",
      "---  ------    --------------  ----- \n",
      " 0   season    186 non-null    object\n",
      " 1   episode   186 non-null    object\n",
      " 2   title     186 non-null    object\n",
      " 3   director  186 non-null    object\n",
      " 4   writer    186 non-null    object\n",
      "dtypes: object(5)\n",
      "memory usage: 8.7+ KB\n"
     ]
    }
   ],
   "source": [
    "df_episode.info()"
   ]
  },
  {
   "cell_type": "code",
   "execution_count": 19,
   "metadata": {},
   "outputs": [],
   "source": [
    "df_episode.to_csv('schrute_episode_list.csv',index=False)"
   ]
  },
  {
   "cell_type": "markdown",
   "metadata": {},
   "source": [
    "# Prepare dataset"
   ]
  },
  {
   "cell_type": "code",
   "execution_count": 20,
   "metadata": {},
   "outputs": [],
   "source": [
    "def schrut_prep(df):\n",
    "    df.drop(columns=['index'], axis=1, inplace=True)\n",
    "\n",
    "    df.drop(df[df.text_w_direction.isna()].index, axis=0, inplace=True)\n",
    "    \n",
    "    df.rename(columns={'episode_name':'title','text_w_direction':'text_w'},inplace=True)\n",
    "    \n",
    "    return df"
   ]
  },
  {
   "cell_type": "code",
   "execution_count": 21,
   "metadata": {},
   "outputs": [],
   "source": [
    "df = schrut_prep(df)"
   ]
  },
  {
   "cell_type": "code",
   "execution_count": 22,
   "metadata": {},
   "outputs": [
    {
     "data": {
      "text/html": [
       "<div>\n",
       "<style scoped>\n",
       "    .dataframe tbody tr th:only-of-type {\n",
       "        vertical-align: middle;\n",
       "    }\n",
       "\n",
       "    .dataframe tbody tr th {\n",
       "        vertical-align: top;\n",
       "    }\n",
       "\n",
       "    .dataframe thead th {\n",
       "        text-align: right;\n",
       "    }\n",
       "</style>\n",
       "<table border=\"1\" class=\"dataframe\">\n",
       "  <thead>\n",
       "    <tr style=\"text-align: right;\">\n",
       "      <th></th>\n",
       "      <th>season</th>\n",
       "      <th>episode</th>\n",
       "      <th>title</th>\n",
       "      <th>director</th>\n",
       "      <th>writer</th>\n",
       "      <th>character</th>\n",
       "      <th>text</th>\n",
       "      <th>text_w</th>\n",
       "    </tr>\n",
       "  </thead>\n",
       "  <tbody>\n",
       "    <tr>\n",
       "      <th>0</th>\n",
       "      <td>1</td>\n",
       "      <td>1</td>\n",
       "      <td>Pilot</td>\n",
       "      <td>Ken Kwapis</td>\n",
       "      <td>Ricky Gervais;Stephen Merchant;Greg Daniels</td>\n",
       "      <td>Michael</td>\n",
       "      <td>All right Jim. Your quarterlies look very good...</td>\n",
       "      <td>All right Jim. Your quarterlies look very good...</td>\n",
       "    </tr>\n",
       "    <tr>\n",
       "      <th>1</th>\n",
       "      <td>1</td>\n",
       "      <td>1</td>\n",
       "      <td>Pilot</td>\n",
       "      <td>Ken Kwapis</td>\n",
       "      <td>Ricky Gervais;Stephen Merchant;Greg Daniels</td>\n",
       "      <td>Jim</td>\n",
       "      <td>Oh, I told you. I couldn't close it. So...</td>\n",
       "      <td>Oh, I told you. I couldn't close it. So...</td>\n",
       "    </tr>\n",
       "    <tr>\n",
       "      <th>2</th>\n",
       "      <td>1</td>\n",
       "      <td>1</td>\n",
       "      <td>Pilot</td>\n",
       "      <td>Ken Kwapis</td>\n",
       "      <td>Ricky Gervais;Stephen Merchant;Greg Daniels</td>\n",
       "      <td>Michael</td>\n",
       "      <td>So you've come to the master for guidance? Is ...</td>\n",
       "      <td>So you've come to the master for guidance? Is ...</td>\n",
       "    </tr>\n",
       "    <tr>\n",
       "      <th>3</th>\n",
       "      <td>1</td>\n",
       "      <td>1</td>\n",
       "      <td>Pilot</td>\n",
       "      <td>Ken Kwapis</td>\n",
       "      <td>Ricky Gervais;Stephen Merchant;Greg Daniels</td>\n",
       "      <td>Jim</td>\n",
       "      <td>Actually, you called me in here, but yeah.</td>\n",
       "      <td>Actually, you called me in here, but yeah.</td>\n",
       "    </tr>\n",
       "    <tr>\n",
       "      <th>4</th>\n",
       "      <td>1</td>\n",
       "      <td>1</td>\n",
       "      <td>Pilot</td>\n",
       "      <td>Ken Kwapis</td>\n",
       "      <td>Ricky Gervais;Stephen Merchant;Greg Daniels</td>\n",
       "      <td>Michael</td>\n",
       "      <td>All right. Well, let me show you how it's done.</td>\n",
       "      <td>All right. Well, let me show you how it's done.</td>\n",
       "    </tr>\n",
       "  </tbody>\n",
       "</table>\n",
       "</div>"
      ],
      "text/plain": [
       "   season  episode  title    director  \\\n",
       "0       1        1  Pilot  Ken Kwapis   \n",
       "1       1        1  Pilot  Ken Kwapis   \n",
       "2       1        1  Pilot  Ken Kwapis   \n",
       "3       1        1  Pilot  Ken Kwapis   \n",
       "4       1        1  Pilot  Ken Kwapis   \n",
       "\n",
       "                                        writer character  \\\n",
       "0  Ricky Gervais;Stephen Merchant;Greg Daniels   Michael   \n",
       "1  Ricky Gervais;Stephen Merchant;Greg Daniels       Jim   \n",
       "2  Ricky Gervais;Stephen Merchant;Greg Daniels   Michael   \n",
       "3  Ricky Gervais;Stephen Merchant;Greg Daniels       Jim   \n",
       "4  Ricky Gervais;Stephen Merchant;Greg Daniels   Michael   \n",
       "\n",
       "                                                text  \\\n",
       "0  All right Jim. Your quarterlies look very good...   \n",
       "1         Oh, I told you. I couldn't close it. So...   \n",
       "2  So you've come to the master for guidance? Is ...   \n",
       "3         Actually, you called me in here, but yeah.   \n",
       "4    All right. Well, let me show you how it's done.   \n",
       "\n",
       "                                              text_w  \n",
       "0  All right Jim. Your quarterlies look very good...  \n",
       "1         Oh, I told you. I couldn't close it. So...  \n",
       "2  So you've come to the master for guidance? Is ...  \n",
       "3         Actually, you called me in here, but yeah.  \n",
       "4    All right. Well, let me show you how it's done.  "
      ]
     },
     "execution_count": 22,
     "metadata": {},
     "output_type": "execute_result"
    }
   ],
   "source": [
    "df.head()"
   ]
  },
  {
   "cell_type": "code",
   "execution_count": null,
   "metadata": {},
   "outputs": [],
   "source": []
  },
  {
   "cell_type": "code",
   "execution_count": null,
   "metadata": {},
   "outputs": [],
   "source": []
  }
 ],
 "metadata": {
  "kernelspec": {
   "display_name": "Python 3",
   "language": "python",
   "name": "python3"
  },
  "language_info": {
   "codemirror_mode": {
    "name": "ipython",
    "version": 3
   },
   "file_extension": ".py",
   "mimetype": "text/x-python",
   "name": "python",
   "nbconvert_exporter": "python",
   "pygments_lexer": "ipython3",
   "version": "3.8.5"
  },
  "toc": {
   "base_numbering": 1,
   "nav_menu": {
    "height": "295px",
    "width": "426px"
   },
   "number_sections": true,
   "sideBar": true,
   "skip_h1_title": false,
   "title_cell": "Table of Contents",
   "title_sidebar": "Contents",
   "toc_cell": false,
   "toc_position": {},
   "toc_section_display": true,
   "toc_window_display": false
  }
 },
 "nbformat": 4,
 "nbformat_minor": 4
}
